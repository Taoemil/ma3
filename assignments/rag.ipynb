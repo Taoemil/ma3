{
 "cells": [
  {
   "cell_type": "markdown",
   "metadata": {},
   "source": [
    "**AI & Machine Learning (KAN-CINTO4003U) - Copenhagen Business School | Spring 2025**\n",
    "\n",
    "***"
   ]
  },
  {
   "cell_type": "markdown",
   "metadata": {},
   "source": [
    "\n",
    "# Part I: RAG\n",
    "\n",
    "Please see the description of the assignment in the README file (section 1) <br>\n",
    "**Guide notebook**: [guides/rag_guide.ipynb](guides/rag_guide.ipynb)\n",
    "\n",
    "\n",
    "***\n",
    "<br>\n",
    "\n",
    "* Remember to include some reflections on your results. Are there, for example, any hyperparameters that are particularly important?\n",
    "\n",
    "* You should follow the steps given in the `rag_guide` notebook to create your own RAG system.\n",
    "\n",
    "<br>\n",
    "\n",
    "***"
   ]
  },
  {
   "cell_type": "markdown",
   "metadata": {},
   "source": [
    "#### Imports"
   ]
  },
  {
   "cell_type": "code",
   "execution_count": 1,
   "metadata": {},
   "outputs": [
    {
     "name": "stdout",
     "output_type": "stream",
     "text": [
      "/opt/anaconda3/envs/aiml25-ma3/bin/python\n"
     ]
    }
   ],
   "source": [
    "import sys\n",
    "print(sys.executable)\n"
   ]
  },
  {
   "cell_type": "code",
   "execution_count": 2,
   "metadata": {},
   "outputs": [],
   "source": [
    "from decouple import config\n",
    "\n",
    "from langchain_ibm import WatsonxLLM\n",
    "from ibm_watsonx_ai.metanames import GenTextParamsMetaNames as GenParams"
   ]
  },
  {
   "cell_type": "code",
   "execution_count": 3,
   "metadata": {},
   "outputs": [],
   "source": [
    "from typing import Literal, Any\n",
    "from copy import deepcopy\n",
    "\n",
    "from typing_extensions import TypedDict\n",
    "import matplotlib.pyplot as plt\n",
    "import numpy as np\n",
    "from decouple import config\n",
    "from pydantic import BaseModel, Field\n",
    "from IPython.display import Image, display\n",
    "from tqdm import tqdm\n",
    "\n",
    "from langchain_chroma import Chroma\n",
    "from langchain_core.documents import Document\n",
    "from langchain_community.document_loaders import TextLoader\n",
    "from langchain_text_splitters.markdown import MarkdownHeaderTextSplitter\n",
    "from langchain.prompts import PromptTemplate\n",
    "from langchain_ibm import WatsonxEmbeddings\n",
    "from langchain_ibm import WatsonxLLM\n",
    "from langgraph.graph import START, StateGraph\n",
    "from ibm_watsonx_ai.metanames import GenTextParamsMetaNames as GenParams\n",
    "\n",
    "import litellm\n",
    "from litellm import completion\n",
    "import instructor\n",
    "from instructor import Mode"
   ]
  },
  {
   "cell_type": "markdown",
   "metadata": {},
   "source": [
    "#### Retrieve secrets"
   ]
  },
  {
   "cell_type": "code",
   "execution_count": 4,
   "metadata": {},
   "outputs": [],
   "source": [
    "WX_API_KEY = config(\"WX_API_KEY\")\n",
    "WX_PROJECT_ID = config(\"WX_PROJECT_ID\")\n",
    "WX_API_URL = \"https://us-south.ml.cloud.ibm.com\"\n"
   ]
  },
  {
   "cell_type": "markdown",
   "metadata": {},
   "source": [
    "#### Authenticate and initialize LLM"
   ]
  },
  {
   "cell_type": "code",
   "execution_count": 5,
   "metadata": {},
   "outputs": [],
   "source": [
    "llm = WatsonxLLM(\n",
    "\n",
    "        model_id= \"ibm/granite-13b-instruct-v2\",\n",
    "        url=WX_API_URL,\n",
    "        apikey=WX_API_KEY,\n",
    "        project_id=WX_PROJECT_ID,\n",
    "\n",
    "        params={\n",
    "            GenParams.DECODING_METHOD: \"greedy\",\n",
    "            GenParams.TEMPERATURE: 0,\n",
    "            GenParams.MIN_NEW_TOKENS: 5,\n",
    "            GenParams.MAX_NEW_TOKENS: 1_000,\n",
    "            GenParams.REPETITION_PENALTY:1.2\n",
    "        }\n",
    "\n",
    ")"
   ]
  },
  {
   "cell_type": "markdown",
   "metadata": {},
   "source": [
    "#### Use LLM"
   ]
  },
  {
   "cell_type": "code",
   "execution_count": 6,
   "metadata": {},
   "outputs": [
    {
     "name": "stdout",
     "output_type": "stream",
     "text": [
      "<class 'langchain_core.outputs.llm_result.LLMResult'>\n",
      "generations=[[Generation(text=\"The recipe for disaster is simple: 1. Don't pay your bills on time 2. Don't keep track of your expenses 3. Don't save money 4. Don't invest in yourself 5. Don't plan for retirement 6. Don't get enough sleep 7. Drink too much alcohol 8. Eat unhealthy food 9. Exercise regularly 10. Have fun \", generation_info={'finish_reason': 'eos_token'})]] llm_output={'token_usage': {'generated_token_count': 74, 'input_token_count': 7}, 'model_id': 'ibm/granite-13b-instruct-v2', 'deployment_id': None} run=[RunInfo(run_id=UUID('b8792c13-8039-4280-916f-803408f521a9'))] type='LLMResult'\n"
     ]
    }
   ],
   "source": [
    "llm_result = llm.generate([\"What is the recipe for disaster?\"])\n",
    "\n",
    "print(type(llm_result))\n",
    "print(llm_result)"
   ]
  },
  {
   "cell_type": "code",
   "execution_count": 7,
   "metadata": {},
   "outputs": [
    {
     "name": "stdout",
     "output_type": "stream",
     "text": [
      "<class 'str'>\n",
      "The recipe for disaster is a series of events that lead to a negative outcome.\n"
     ]
    }
   ],
   "source": [
    "\t\n",
    "llm_result = llm.invoke(\"what is the recipe for disaster\")\n",
    "\n",
    "print(type(llm_result))\n",
    "print(llm_result)"
   ]
  },
  {
   "cell_type": "code",
   "execution_count": 8,
   "metadata": {},
   "outputs": [
    {
     "name": "stdout",
     "output_type": "stream",
     "text": [
      "The recipe for disaster is simple: 1. Don't pay your bills on time 2. Don't save money 3. Don't invest in yourself 4. Don't have a budget 5. Don't plan ahead 6. Don't get out of debt 7. Don't learn from your mistakes 8. Don't take care of your health 9. Don't exercise 10. Don't eat healthy food 11. Don't drink enough water 12. Don't sleep enough 13. Don't be happy 14. Don't laugh 15. Don't smile 16. Don't make friends 17. Don't help others 18. Don't give back to society 19. Don't do good things 20. Don't try to change 21. Don't grow up 22. Don't become an adult 23. Don't think about the future 24. Don't live in the present 25. Don't enjoy life 26. Don't dream 27. Don't hope 28. Don't believe 29. Don't expect 30. Don't work hard 31. Don't study 32. Don't read 33. Don't listen 34. Don't ask questions 35. Don't communicate 36. Don't share 37. Don't say 38. Don't think 39. Don't question 40. Don't investigate 41. Don't research 42. Don't use common sense 43. Don't be logical 44. Don't be reasonable 45. Don't be responsible 46. Don't be mature 47. Don't be smart 48. Don't be awake 49. Don't be alert 50. Don't be alive 51. Don't be human 52. Don't be breathing 53. Don't be conscious 54. Don't be aware 55. Don't be alive 56. Don't be living 57. Don't be 58. Don't be 59. Don't be 60. Don't be 61. Don't be 62. Don't be 63. Don't be 64. Don't be 65. Don't be 66. Don't be 67. Don't be 68. Don't be 69. Don't be 70. Don't be 71. Don't be 72. Don't be 73. Don't be 74. Don't be 75. Don't be 76. Don't be 77. Don't be 78. Don't "
     ]
    }
   ],
   "source": [
    "for chunk in llm.stream(\n",
    "    \"what is the recipe for disaster?\"\n",
    "):\n",
    "    print(chunk, end=\"\")"
   ]
  },
  {
   "cell_type": "code",
   "execution_count": 9,
   "metadata": {},
   "outputs": [
    {
     "data": {
      "text/plain": [
       "{'source': 'data/madeup_company.md'}"
      ]
     },
     "execution_count": 9,
     "metadata": {},
     "output_type": "execute_result"
    }
   ],
   "source": [
    "document = TextLoader(\"data/madeup_company.md\").load()[0]\n",
    "document.metadata"
   ]
  },
  {
   "cell_type": "code",
   "execution_count": 10,
   "metadata": {},
   "outputs": [],
   "source": [
    "headers_to_split_on = [(\"#\", \"Header 1\"), (\"##\", \"Header 2\"), (\"###\", \"Header 3\"), (\"####\", \"Header 4\")]\n",
    "text_splitter = MarkdownHeaderTextSplitter(headers_to_split_on=headers_to_split_on)\n",
    "chunks = text_splitter.split_text(document.page_content)"
   ]
  },
  {
   "cell_type": "code",
   "execution_count": 11,
   "metadata": {},
   "outputs": [
    {
     "data": {
      "text/plain": [
       "[Document(metadata={'Header 1': 'About MadeUpCompany'}, page_content='MadeUpCompany is a pioneering technology firm founded in 2010, specializing in cloud computing, data analytics, and machine learning. Headquartered in San Francisco, California, we have a global presence with satellite offices in New York, London, and Tokyo. Our mission is to empower businesses and individuals with cutting-edge technology that enhances efficiency, scalability, and innovation.  \\nWith a diverse team of experts from various industries—including AI research, cybersecurity, and enterprise software development—we push the boundaries of what’s possible. Our commitment to continuous improvement, security, and customer success has earned us recognition as a leader in the tech space.'),\n",
       " Document(metadata={'Header 1': 'About MadeUpCompany', 'Header 2': 'Our Values'}, page_content=\"At MadeUpCompany, we believe in:  \\n- Innovation – Continuously developing and refining solutions that meet the evolving needs of businesses.\\n- Security & Privacy – Implementing world-class security protocols to protect our customers' data.\\n- Customer-Centric Approach – Designing intuitive, powerful tools that make complex technology accessible.\\n- Sustainability – Ensuring our infrastructure is energy-efficient and environmentally responsible.\"),\n",
       " Document(metadata={'Header 1': 'About MadeUpCompany', 'Header 2': 'Products and Services'}, page_content='We offer a comprehensive suite of cloud-based solutions that streamline operations, enhance decision-making, and power AI-driven insights. Our core products include CloudMate, DataWiz, and Custom AI Solutions.'),\n",
       " Document(metadata={'Header 1': 'About MadeUpCompany', 'Header 2': 'Products and Services', 'Header 3': 'CloudMate – Secure and Scalable Cloud Storage'}, page_content='CloudMate is our flagship cloud storage solution, designed for businesses of all sizes. Features include:\\n- ✅ Seamless data migration with automated backups\\n- ✅ Military-grade encryption and multi-factor authentication\\n- ✅ Role-based access control for enterprise security\\n- ✅ AI-powered file organization and search capabilities'),\n",
       " Document(metadata={'Header 1': 'About MadeUpCompany', 'Header 2': 'Products and Services', 'Header 3': 'DataWiz – Advanced Data Analytics'}, page_content='DataWiz transforms raw data into actionable insights using cutting-edge machine learning models. Features include:\\n- 📊 Predictive analytics for demand forecasting and customer behavior modeling\\n- 📊 Real-time dashboards with customizable reporting\\n- 📊 API integrations with popular business intelligence tools\\n- 📊 Automated anomaly detection for fraud prevention and operational efficiency'),\n",
       " Document(metadata={'Header 1': 'About MadeUpCompany', 'Header 2': 'Products and Services', 'Header 3': 'Custom AI Solutions'}, page_content='We provide tailored machine learning models to optimize business workflows, automate repetitive tasks, and enhance decision-making. From NLP-based chatbots to AI-driven recommendation engines, we develop bespoke AI solutions for various industries.'),\n",
       " Document(metadata={'Header 1': 'About MadeUpCompany', 'Header 2': 'Pricing'}, page_content='We offer flexible pricing plans to meet the needs of individuals, small businesses, and large enterprises.'),\n",
       " Document(metadata={'Header 1': 'About MadeUpCompany', 'Header 2': 'Pricing', 'Header 3': 'CloudMate Plans'}, page_content='Our secure and scalable cloud storage service, CloudMate, is available in the following plans:\\n- Basic: $9.99/month – 100GB storage, essential security features\\n- Professional: $29.99/month – 1TB storage, enhanced security, priority support\\n- Enterprise: Custom pricing – Unlimited storage, advanced compliance tools, dedicated account manager'),\n",
       " Document(metadata={'Header 1': 'About MadeUpCompany', 'Header 2': 'Pricing', 'Header 3': 'DataWiz Plans'}, page_content='Our advanced data analytics platform, DataWiz, offers the following plans:\\n- Starter: $49/month – Basic analytics, limited AI insights\\n- Growth: $99/month – Advanced machine learning models, predictive analytics\\n- Enterprise: Custom pricing – Full AI customization, dedicated data scientists\\n- Custom AI Solutions – Pricing is determined based on project scope and complexity. Contact our sales team for a personalized quote.'),\n",
       " Document(metadata={'Header 1': 'About MadeUpCompany', 'Header 2': 'Technical Support'}, page_content='Our award-winning customer support team is available 24/7 to assist with any technical issues. Support channels include:\\n- 📞 Toll-free phone support\\n- 💬 Live chat assistance\\n- 📧 Email support with guaranteed response within 6 hours\\n- 📚 Comprehensive FAQ and user guides available on our website\\n- 👥 Community forum for peer-to-peer discussions and best practices  \\nMost technical issues are resolved within 24 hours, ensuring minimal downtime for your business.'),\n",
       " Document(metadata={'Header 1': 'About MadeUpCompany', 'Header 2': 'Security and Compliance'}, page_content='Security is at the heart of everything we do. MadeUpCompany adheres to the highest security and regulatory standards, including:  \\n- 🔒 GDPR, HIPAA, and SOC 2 Compliance – Ensuring global security and data protection compliance.\\n- 🔒 End-to-End Encryption – Protecting data in transit and at rest with AES-256 encryption.\\n- 🔒 Zero Trust Architecture – Implementing rigorous access control and continuous authentication.\\n- 🔒 DDoS Protection & Advanced Threat Detection – Safeguarding against cyber threats with AI-powered monitoring.  \\nOur team continuously updates security measures to stay ahead of evolving cyber risks.'),\n",
       " Document(metadata={'Header 1': 'About MadeUpCompany', 'Header 2': 'Account Management'}, page_content='Managing your MadeUpCompany services is simple and intuitive via our online portal. Customers can:  \\n- ✔️ Upgrade or downgrade plans at any time\\n- ✔️ Access billing history and download invoices\\n- ✔️ Manage multiple users and set role-based permissions\\n- ✔️ Track storage and analytics usage in real time  \\nFor enterprise accounts, we offer dedicated account managers who provide strategic guidance and personalized support.'),\n",
       " Document(metadata={'Header 1': 'About MadeUpCompany', 'Header 2': 'Refund and Cancellation Policy'}, page_content=\"We stand by the quality of our services and offer a 30-day money-back guarantee on all plans.  \\nIf you're not satisfied, you can request a full refund within the first 30 days.\\nAfter 30 days, you may cancel your subscription at any time, and we’ll issue a prorated refund based on your remaining subscription period.\\nEnterprise contracts include a flexible exit clause, ensuring fair terms for long-term clients.\\nUpcoming Features\"),\n",
       " Document(metadata={'Header 1': 'About MadeUpCompany', 'Header 2': 'Roadmap'}, page_content=\"We are constantly evolving and introducing new features based on customer feedback. Here’s what’s coming soon:  \\n- 🚀 AI-Driven Data Insights – DataWiz will introduce automated trend forecasting powered by deep learning.\\n- 🚀 Collaboration Tools for CloudMate – Enhanced real-time document editing and team workspaces for seamless collaboration.\\n- 🚀 Zero-Knowledge Encryption – An optional feature for businesses requiring absolute data confidentiality.  \\nWe value our customers' input and prioritize updates that deliver the most impact.\"),\n",
       " Document(metadata={'Header 1': 'About MadeUpCompany', 'Header 2': 'Why Choose Us?'}, page_content=\"- ✔️ Over 1 million satisfied users worldwide\\n- ✔️ Trusted by Fortune 500 companies\\n- ✔️ Featured in TechCrunch, Forbes, and Wired as a top innovator\\n- ✔️ Unmatched customer support and security  \\nWhether you're a startup, an enterprise, or an individual user, MadeUpCompany provides the tools you need to thrive in the digital age.\"),\n",
       " Document(metadata={'Header 1': 'About MadeUpCompany', 'Header 2': 'Contact'}, page_content='For more information, visit our website at www.madeupcompany.com or contact our sales team at sales@madeupcompany.com. 🚀')]"
      ]
     },
     "execution_count": 11,
     "metadata": {},
     "output_type": "execute_result"
    }
   ],
   "source": [
    "chunks"
   ]
  },
  {
   "cell_type": "code",
   "execution_count": 12,
   "metadata": {},
   "outputs": [],
   "source": [
    "\n",
    "def update_documents_with_headers(chunks):\n",
    "    \"\"\"\n",
    "    Creates a new list of Document objects with page_content prepended with headers\n",
    "    in [Header1/Header2/Header3]: format\n",
    "    \n",
    "    Returns new objects rather than modifying the original chunks\n",
    "    \"\"\"\n",
    "    updated_chunks = []\n",
    "    \n",
    "    for doc in chunks:\n",
    "        # Create a deep copy of the document to avoid modifying the original\n",
    "        new_doc = deepcopy(doc)\n",
    "        \n",
    "        # Get all headers that exist in metadata\n",
    "        headers = []\n",
    "        for i in range(1, 4):\n",
    "            key = f'Header {i}'\n",
    "            if key in new_doc.metadata:\n",
    "                headers.append(new_doc.metadata[key])\n",
    "        \n",
    "        # Create the header prefix and update page_content\n",
    "        if headers:\n",
    "            prefix = f\"[{'/'.join(headers)}]: \"\n",
    "            new_doc.page_content = prefix + \"\\n\" + new_doc.page_content\n",
    "        \n",
    "        updated_chunks.append(new_doc)\n",
    "    \n",
    "    return updated_chunks\n",
    "\n",
    "\n",
    "docs = update_documents_with_headers(chunks)"
   ]
  },
  {
   "cell_type": "code",
   "execution_count": 13,
   "metadata": {},
   "outputs": [
    {
     "name": "stdout",
     "output_type": "stream",
     "text": [
      "[About MadeUpCompany]: \n",
      "MadeUpCompany is a pioneering technology firm founded in 2010, specializing in cloud computing, data analytics, and machine learning. Headquartered in San Francisco, California, we have a global presence with satellite offices in New York, London, and Tokyo. Our mission is to empower businesses and individuals with cutting-edge technology that enhances efficiency, scalability, and innovation.  \n",
      "With a diverse team of experts from various industries—including AI research, cybersecurity, and enterprise software development—we push the boundaries of what’s possible. Our commitment to continuous improvement, security, and customer success has earned us recognition as a leader in the tech space.\n",
      "\n",
      "[About MadeUpCompany/Our Values]: \n",
      "At MadeUpCompany, we believe in:  \n",
      "- Innovation – Continuously developing and refining solutions that meet the evolving needs of businesses.\n",
      "- Security & Privacy – Implementing world-class security protocols to protect our customers' data.\n",
      "- Customer-Centric Approach – Designing intuitive, powerful tools that make complex technology accessible.\n",
      "- Sustainability – Ensuring our infrastructure is energy-efficient and environmentally responsible.\n",
      "\n",
      "[About MadeUpCompany/Products and Services]: \n",
      "We offer a comprehensive suite of cloud-based solutions that streamline operations, enhance decision-making, and power AI-driven insights. Our core products include CloudMate, DataWiz, and Custom AI Solutions.\n",
      "\n",
      "[About MadeUpCompany/Products and Services/CloudMate – Secure and Scalable Cloud Storage]: \n",
      "CloudMate is our flagship cloud storage solution, designed for businesses of all sizes. Features include:\n",
      "- ✅ Seamless data migration with automated backups\n",
      "- ✅ Military-grade encryption and multi-factor authentication\n",
      "- ✅ Role-based access control for enterprise security\n",
      "- ✅ AI-powered file organization and search capabilities\n",
      "\n",
      "[About MadeUpCompany/Products and Services/DataWiz – Advanced Data Analytics]: \n",
      "DataWiz transforms raw data into actionable insights using cutting-edge machine learning models. Features include:\n",
      "- 📊 Predictive analytics for demand forecasting and customer behavior modeling\n",
      "- 📊 Real-time dashboards with customizable reporting\n",
      "- 📊 API integrations with popular business intelligence tools\n",
      "- 📊 Automated anomaly detection for fraud prevention and operational efficiency\n",
      "\n",
      "[About MadeUpCompany/Products and Services/Custom AI Solutions]: \n",
      "We provide tailored machine learning models to optimize business workflows, automate repetitive tasks, and enhance decision-making. From NLP-based chatbots to AI-driven recommendation engines, we develop bespoke AI solutions for various industries.\n",
      "\n",
      "[About MadeUpCompany/Pricing]: \n",
      "We offer flexible pricing plans to meet the needs of individuals, small businesses, and large enterprises.\n",
      "\n",
      "[About MadeUpCompany/Pricing/CloudMate Plans]: \n",
      "Our secure and scalable cloud storage service, CloudMate, is available in the following plans:\n",
      "- Basic: $9.99/month – 100GB storage, essential security features\n",
      "- Professional: $29.99/month – 1TB storage, enhanced security, priority support\n",
      "- Enterprise: Custom pricing – Unlimited storage, advanced compliance tools, dedicated account manager\n",
      "\n",
      "[About MadeUpCompany/Pricing/DataWiz Plans]: \n",
      "Our advanced data analytics platform, DataWiz, offers the following plans:\n",
      "- Starter: $49/month – Basic analytics, limited AI insights\n",
      "- Growth: $99/month – Advanced machine learning models, predictive analytics\n",
      "- Enterprise: Custom pricing – Full AI customization, dedicated data scientists\n",
      "- Custom AI Solutions – Pricing is determined based on project scope and complexity. Contact our sales team for a personalized quote.\n",
      "\n",
      "[About MadeUpCompany/Technical Support]: \n",
      "Our award-winning customer support team is available 24/7 to assist with any technical issues. Support channels include:\n",
      "- 📞 Toll-free phone support\n",
      "- 💬 Live chat assistance\n",
      "- 📧 Email support with guaranteed response within 6 hours\n",
      "- 📚 Comprehensive FAQ and user guides available on our website\n",
      "- 👥 Community forum for peer-to-peer discussions and best practices  \n",
      "Most technical issues are resolved within 24 hours, ensuring minimal downtime for your business.\n",
      "\n",
      "[About MadeUpCompany/Security and Compliance]: \n",
      "Security is at the heart of everything we do. MadeUpCompany adheres to the highest security and regulatory standards, including:  \n",
      "- 🔒 GDPR, HIPAA, and SOC 2 Compliance – Ensuring global security and data protection compliance.\n",
      "- 🔒 End-to-End Encryption – Protecting data in transit and at rest with AES-256 encryption.\n",
      "- 🔒 Zero Trust Architecture – Implementing rigorous access control and continuous authentication.\n",
      "- 🔒 DDoS Protection & Advanced Threat Detection – Safeguarding against cyber threats with AI-powered monitoring.  \n",
      "Our team continuously updates security measures to stay ahead of evolving cyber risks.\n",
      "\n",
      "[About MadeUpCompany/Account Management]: \n",
      "Managing your MadeUpCompany services is simple and intuitive via our online portal. Customers can:  \n",
      "- ✔️ Upgrade or downgrade plans at any time\n",
      "- ✔️ Access billing history and download invoices\n",
      "- ✔️ Manage multiple users and set role-based permissions\n",
      "- ✔️ Track storage and analytics usage in real time  \n",
      "For enterprise accounts, we offer dedicated account managers who provide strategic guidance and personalized support.\n",
      "\n",
      "[About MadeUpCompany/Refund and Cancellation Policy]: \n",
      "We stand by the quality of our services and offer a 30-day money-back guarantee on all plans.  \n",
      "If you're not satisfied, you can request a full refund within the first 30 days.\n",
      "After 30 days, you may cancel your subscription at any time, and we’ll issue a prorated refund based on your remaining subscription period.\n",
      "Enterprise contracts include a flexible exit clause, ensuring fair terms for long-term clients.\n",
      "Upcoming Features\n",
      "\n",
      "[About MadeUpCompany/Roadmap]: \n",
      "We are constantly evolving and introducing new features based on customer feedback. Here’s what’s coming soon:  \n",
      "- 🚀 AI-Driven Data Insights – DataWiz will introduce automated trend forecasting powered by deep learning.\n",
      "- 🚀 Collaboration Tools for CloudMate – Enhanced real-time document editing and team workspaces for seamless collaboration.\n",
      "- 🚀 Zero-Knowledge Encryption – An optional feature for businesses requiring absolute data confidentiality.  \n",
      "We value our customers' input and prioritize updates that deliver the most impact.\n",
      "\n",
      "[About MadeUpCompany/Why Choose Us?]: \n",
      "- ✔️ Over 1 million satisfied users worldwide\n",
      "- ✔️ Trusted by Fortune 500 companies\n",
      "- ✔️ Featured in TechCrunch, Forbes, and Wired as a top innovator\n",
      "- ✔️ Unmatched customer support and security  \n",
      "Whether you're a startup, an enterprise, or an individual user, MadeUpCompany provides the tools you need to thrive in the digital age.\n",
      "\n",
      "[About MadeUpCompany/Contact]: \n",
      "For more information, visit our website at www.madeupcompany.com or contact our sales team at sales@madeupcompany.com. 🚀\n",
      "\n"
     ]
    }
   ],
   "source": [
    "for doc in docs:\n",
    "    print(doc.page_content, end=\"\\n\\n\")"
   ]
  },
  {
   "cell_type": "code",
   "execution_count": 14,
   "metadata": {},
   "outputs": [],
   "source": [
    "embed_params = {}\n",
    "\n",
    "watsonx_embedding = WatsonxEmbeddings(\n",
    "    model_id=\"ibm/granite-embedding-278m-multilingual\",\n",
    "    url=WX_API_URL,\n",
    "    project_id=WX_PROJECT_ID,\n",
    "    apikey=WX_API_KEY,\n",
    "    params=embed_params,\n",
    ")"
   ]
  },
  {
   "cell_type": "code",
   "execution_count": 15,
   "metadata": {},
   "outputs": [],
   "source": [
    "local_vector_db = Chroma.from_documents(\n",
    "    collection_name=\"my_collection\",\n",
    "    embedding=watsonx_embedding,\n",
    "    persist_directory=\"my_vector_db\", # This will save the vector database to disk! Delete it if you want to start fresh.\n",
    "    documents=docs,\n",
    "    \n",
    ")"
   ]
  },
  {
   "cell_type": "code",
   "execution_count": 16,
   "metadata": {},
   "outputs": [],
   "source": [
    "# Use the vectorstore as a retriever\n",
    "retriever = local_vector_db.as_retriever(\n",
    "    search_type=\"similarity\",\n",
    "    search_kwargs={\n",
    "        \"k\": 16,\n",
    "    }\n",
    ")"
   ]
  },
  {
   "cell_type": "code",
   "execution_count": 17,
   "metadata": {},
   "outputs": [
    {
     "name": "stdout",
     "output_type": "stream",
     "text": [
      "################################################################################\n",
      "ID: 66fe9ee1-f1ed-41b3-8d7a-6be477652548\n",
      "Content: [About MadeUpCompany/Refund and Cancellation Policy]: \n",
      "We stand by the quality of our services and offer a 30-day money-back guarantee on all plans.  \n",
      "If you're not satisfied, you can request a full refund within the first 30 days.\n",
      "After 30 days, you may cancel your subscription at any time, and we’ll issue a prorated refund based on your remaining subscription period.\n",
      "Enterprise contracts include a flexible exit clause, ensuring fair terms for long-term clients.\n",
      "Upcoming Features\n",
      "\n",
      "################################################################################\n",
      "ID: 9e27e226-105a-4f4b-bed8-fd7dcda15102\n",
      "Content: [About MadeUpCompany/Refund and Cancellation Policy]: \n",
      "We stand by the quality of our services and offer a 30-day money-back guarantee on all plans.  \n",
      "If you're not satisfied, you can request a full refund within the first 30 days.\n",
      "After 30 days, you may cancel your subscription at any time, and we’ll issue a prorated refund based on your remaining subscription period.\n",
      "Enterprise contracts include a flexible exit clause, ensuring fair terms for long-term clients.\n",
      "Upcoming Features\n",
      "\n",
      "################################################################################\n",
      "ID: 40171a04-58da-4403-83bf-7340ea69b80a\n",
      "Content: [About MadeUpCompany/Refund and Cancellation Policy]: \n",
      "We stand by the quality of our services and offer a 30-day money-back guarantee on all plans.  \n",
      "If you're not satisfied, you can request a full refund within the first 30 days.\n",
      "After 30 days, you may cancel your subscription at any time, and we’ll issue a prorated refund based on your remaining subscription period.\n",
      "Enterprise contracts include a flexible exit clause, ensuring fair terms for long-term clients.\n",
      "Upcoming Features\n",
      "\n",
      "################################################################################\n",
      "ID: d8be2b62-8d0f-4318-b70a-177dc2e1d6c8\n",
      "Content: [About MadeUpCompany/Refund and Cancellation Policy]: \n",
      "We stand by the quality of our services and offer a 30-day money-back guarantee on all plans.  \n",
      "If you're not satisfied, you can request a full refund within the first 30 days.\n",
      "After 30 days, you may cancel your subscription at any time, and we’ll issue a prorated refund based on your remaining subscription period.\n",
      "Enterprise contracts include a flexible exit clause, ensuring fair terms for long-term clients.\n",
      "Upcoming Features\n",
      "\n",
      "################################################################################\n",
      "ID: da0f9aca-7be5-45cf-ad34-2c559af9c793\n",
      "Content: [About MadeUpCompany/Refund and Cancellation Policy]: \n",
      "We stand by the quality of our services and offer a 30-day money-back guarantee on all plans.  \n",
      "If you're not satisfied, you can request a full refund within the first 30 days.\n",
      "After 30 days, you may cancel your subscription at any time, and we’ll issue a prorated refund based on your remaining subscription period.\n",
      "Enterprise contracts include a flexible exit clause, ensuring fair terms for long-term clients.\n",
      "Upcoming Features\n",
      "\n",
      "################################################################################\n",
      "ID: 0ccc8e00-c54c-421f-b3a9-f7d2d08f5769\n",
      "Content: [About MadeUpCompany/Refund and Cancellation Policy]: \n",
      "We stand by the quality of our services and offer a 30-day money-back guarantee on all plans.  \n",
      "If you're not satisfied, you can request a full refund within the first 30 days.\n",
      "After 30 days, you may cancel your subscription at any time, and we’ll issue a prorated refund based on your remaining subscription period.\n",
      "Enterprise contracts include a flexible exit clause, ensuring fair terms for long-term clients.\n",
      "Upcoming Features\n",
      "\n",
      "################################################################################\n",
      "ID: bcdff646-61a6-44ea-8012-5db8292c3924\n",
      "Content: [About MadeUpCompany/Refund and Cancellation Policy]: \n",
      "We stand by the quality of our services and offer a 30-day money-back guarantee on all plans.  \n",
      "If you're not satisfied, you can request a full refund within the first 30 days.\n",
      "After 30 days, you may cancel your subscription at any time, and we’ll issue a prorated refund based on your remaining subscription period.\n",
      "Enterprise contracts include a flexible exit clause, ensuring fair terms for long-term clients.\n",
      "Upcoming Features\n",
      "\n",
      "################################################################################\n",
      "ID: 20e4cd07-70e4-4ade-9928-3c25369d3305\n",
      "Content: [About MadeUpCompany/Refund and Cancellation Policy]: \n",
      "We stand by the quality of our services and offer a 30-day money-back guarantee on all plans.  \n",
      "If you're not satisfied, you can request a full refund within the first 30 days.\n",
      "After 30 days, you may cancel your subscription at any time, and we’ll issue a prorated refund based on your remaining subscription period.\n",
      "Enterprise contracts include a flexible exit clause, ensuring fair terms for long-term clients.\n",
      "Upcoming Features\n",
      "\n",
      "################################################################################\n",
      "ID: 372235ba-9262-443e-b1aa-9f03cd18cb54\n",
      "Content: [About MadeUpCompany/Refund and Cancellation Policy]: \n",
      "We stand by the quality of our services and offer a 30-day money-back guarantee on all plans.  \n",
      "If you're not satisfied, you can request a full refund within the first 30 days.\n",
      "After 30 days, you may cancel your subscription at any time, and we’ll issue a prorated refund based on your remaining subscription period.\n",
      "Enterprise contracts include a flexible exit clause, ensuring fair terms for long-term clients.\n",
      "Upcoming Features\n",
      "\n",
      "################################################################################\n",
      "ID: 87e01fd9-5a75-4b02-94ba-ea02ce9008bf\n",
      "Content: [About MadeUpCompany/Pricing/CloudMate Plans]: \n",
      "Our secure and scalable cloud storage service, CloudMate, is available in the following plans:\n",
      "- Basic: $9.99/month – 100GB storage, essential security features\n",
      "- Professional: $29.99/month – 1TB storage, enhanced security, priority support\n",
      "- Enterprise: Custom pricing – Unlimited storage, advanced compliance tools, dedicated account manager\n",
      "\n",
      "################################################################################\n",
      "ID: 0b3a4e44-36c2-4dfa-8a98-ed4fc52f6ea3\n",
      "Content: [About MadeUpCompany/Pricing/CloudMate Plans]: \n",
      "Our secure and scalable cloud storage service, CloudMate, is available in the following plans:\n",
      "- Basic: $9.99/month – 100GB storage, essential security features\n",
      "- Professional: $29.99/month – 1TB storage, enhanced security, priority support\n",
      "- Enterprise: Custom pricing – Unlimited storage, advanced compliance tools, dedicated account manager\n",
      "\n",
      "################################################################################\n",
      "ID: 4e8f0805-9277-406f-8a80-a3645d9a39bc\n",
      "Content: [About MadeUpCompany/Pricing/CloudMate Plans]: \n",
      "Our secure and scalable cloud storage service, CloudMate, is available in the following plans:\n",
      "- Basic: $9.99/month – 100GB storage, essential security features\n",
      "- Professional: $29.99/month – 1TB storage, enhanced security, priority support\n",
      "- Enterprise: Custom pricing – Unlimited storage, advanced compliance tools, dedicated account manager\n",
      "\n",
      "################################################################################\n",
      "ID: 8a007481-15ac-42d8-a2fa-0eb64df133e0\n",
      "Content: [About MadeUpCompany/Pricing/CloudMate Plans]: \n",
      "Our secure and scalable cloud storage service, CloudMate, is available in the following plans:\n",
      "- Basic: $9.99/month – 100GB storage, essential security features\n",
      "- Professional: $29.99/month – 1TB storage, enhanced security, priority support\n",
      "- Enterprise: Custom pricing – Unlimited storage, advanced compliance tools, dedicated account manager\n",
      "\n",
      "################################################################################\n",
      "ID: b17ff5d8-c837-48f0-aa08-ec6bf2e93404\n",
      "Content: [About MadeUpCompany/Pricing/CloudMate Plans]: \n",
      "Our secure and scalable cloud storage service, CloudMate, is available in the following plans:\n",
      "- Basic: $9.99/month – 100GB storage, essential security features\n",
      "- Professional: $29.99/month – 1TB storage, enhanced security, priority support\n",
      "- Enterprise: Custom pricing – Unlimited storage, advanced compliance tools, dedicated account manager\n",
      "\n",
      "################################################################################\n",
      "ID: 7676d8bf-0f3e-48c0-b956-4eca8c06c674\n",
      "Content: [About MadeUpCompany/Pricing/CloudMate Plans]: \n",
      "Our secure and scalable cloud storage service, CloudMate, is available in the following plans:\n",
      "- Basic: $9.99/month – 100GB storage, essential security features\n",
      "- Professional: $29.99/month – 1TB storage, enhanced security, priority support\n",
      "- Enterprise: Custom pricing – Unlimited storage, advanced compliance tools, dedicated account manager\n",
      "\n",
      "################################################################################\n",
      "ID: 54d77334-c8a6-4e02-a587-a5f80db79b18\n",
      "Content: [About MadeUpCompany/Pricing/CloudMate Plans]: \n",
      "Our secure and scalable cloud storage service, CloudMate, is available in the following plans:\n",
      "- Basic: $9.99/month – 100GB storage, essential security features\n",
      "- Professional: $29.99/month – 1TB storage, enhanced security, priority support\n",
      "- Enterprise: Custom pricing – Unlimited storage, advanced compliance tools, dedicated account manager\n",
      "\n"
     ]
    }
   ],
   "source": [
    "\t\n",
    "# Retrieve the most similar text\n",
    "retrieved_documents = retriever.invoke(\"Do you have a 30-day money-back guarantee?\")\n",
    "\n",
    "for document in retrieved_documents:\n",
    "    print(f\"{'#' * 80}\\nID: {document.id}\")\n",
    "    first_n_of_content = document.page_content[:500].replace('\\n\\n', ' ')\n",
    "    print(f\"Content: {first_n_of_content}\\n\")"
   ]
  },
  {
   "cell_type": "code",
   "execution_count": 18,
   "metadata": {},
   "outputs": [],
   "source": [
    "template = \"\"\"ou are an assistant for question-answering tasks. Use the following pieces of retrieved context to answer the question. If you don't know the answer, just say that you don't know. Use three sentences maximum and keep the answer concise.\n",
    "\n",
    "Question:\n",
    "{question}\n",
    "\n",
    "Context: \n",
    "{context} \n",
    "\n",
    "Answer:\n",
    "\"\"\"\n",
    "\n",
    "prompt = PromptTemplate.from_template(template)"
   ]
  },
  {
   "cell_type": "code",
   "execution_count": 19,
   "metadata": {},
   "outputs": [
    {
     "data": {
      "text/plain": [
       "StringPromptValue(text=\"ou are an assistant for question-answering tasks. Use the following pieces of retrieved context to answer the question. If you don't know the answer, just say that you don't know. Use three sentences maximum and keep the answer concise.\\n\\nQuestion:\\nWhat is CloudMate?\\n\\nContext: \\n[About MadeUpCompany/Refund and Cancellation Policy]: \\nWe stand by the quality of our services and offer a 30-day money-back guarantee on all plans.  \\nIf you're not satisfied, you can request a full refund within the first 30 days.\\nAfter 30 days, you may cancel your subscription at any time, and we’ll issue a prorated refund based on your remaining subscription period.\\nEnterprise contracts include a flexible exit clause, ensuring fair terms for long-term clients.\\nUpcoming Features \\n\\nAnswer:\\n\")"
      ]
     },
     "execution_count": 19,
     "metadata": {},
     "output_type": "execute_result"
    }
   ],
   "source": [
    "prompt.invoke(\n",
    "    input={\n",
    "        \"question\": \"What is CloudMate?\",\n",
    "        \"context\": retrieved_documents[0].page_content,\n",
    "    }\n",
    ")"
   ]
  },
  {
   "cell_type": "code",
   "execution_count": 20,
   "metadata": {},
   "outputs": [],
   "source": [
    "question = \"What is CloudMate?\"\n",
    "\n",
    "retrieved_docs = local_vector_db.similarity_search(question)\n",
    "docs_content = \"\\n\\n\".join(f\"Document {i+1}:\\n{doc.page_content}\" for i, doc in enumerate(retrieved_docs))\n",
    "formated_prompt = prompt.invoke({\"question\": question, \"context\": docs_content})"
   ]
  },
  {
   "cell_type": "code",
   "execution_count": 21,
   "metadata": {},
   "outputs": [
    {
     "name": "stdout",
     "output_type": "stream",
     "text": [
      "ou are an assistant for question-answering tasks. Use the following pieces of retrieved context to answer the question. If you don't know the answer, just say that you don't know. Use three sentences maximum and keep the answer concise.\n",
      "\n",
      "Question:\n",
      "What is CloudMate?\n",
      "\n",
      "Context: \n",
      "Document 1:\n",
      "[About MadeUpCompany/Products and Services/CloudMate – Secure and Scalable Cloud Storage]: \n",
      "CloudMate is our flagship cloud storage solution, designed for businesses of all sizes. Features include:\n",
      "- ✅ Seamless data migration with automated backups\n",
      "- ✅ Military-grade encryption and multi-factor authentication\n",
      "- ✅ Role-based access control for enterprise security\n",
      "- ✅ AI-powered file organization and search capabilities\n",
      "\n",
      "Document 2:\n",
      "[About MadeUpCompany/Products and Services/CloudMate – Secure and Scalable Cloud Storage]: \n",
      "CloudMate is our flagship cloud storage solution, designed for businesses of all sizes. Features include:\n",
      "- ✅ Seamless data migration with automated backups\n",
      "- ✅ Military-grade encrypt\n"
     ]
    }
   ],
   "source": [
    "print(formated_prompt.to_string()[:1000])\n"
   ]
  },
  {
   "cell_type": "code",
   "execution_count": 22,
   "metadata": {},
   "outputs": [],
   "source": [
    "answer = llm.invoke(formated_prompt)\n"
   ]
  },
  {
   "cell_type": "code",
   "execution_count": 23,
   "metadata": {},
   "outputs": [
    {
     "name": "stdout",
     "output_type": "stream",
     "text": [
      "CloudMate is our flagship cloud storage solution, designed for businesses of all sizes. It includes features such as:\n",
      "- Seamless data migration with automated backups\n",
      "- Military-grade encryption and multi-factor authentication\n",
      "- Role-based access control for enterprise security\n",
      "- AI-powered file organization and search capabilities\n",
      "\n",
      "\n"
     ]
    }
   ],
   "source": [
    "print(answer)\n"
   ]
  },
  {
   "cell_type": "code",
   "execution_count": 24,
   "metadata": {},
   "outputs": [],
   "source": [
    "# Define state for application\n",
    "class State(TypedDict):\n",
    "    \"\"\" A langgraph state for the application \"\"\"\n",
    "    question: str\n",
    "    context: list[Document]\n",
    "    answer: str\n",
    "\n",
    "\n",
    "# Define application steps\n",
    "def retrieve(state: State):\n",
    "    \"\"\" Our retrieval step. We use our local vector database to retrieve similar documents to the question \"\"\"\n",
    "    retrieved_docs = local_vector_db.similarity_search(state[\"question\"], k=3) # NOTE: You can change k to retrieve fewer or more documents\n",
    "    return {\"context\": retrieved_docs} \n",
    "\n",
    "\n",
    "def generate(state: State):\n",
    "    \"\"\" Our generation step. We use the retrieved documents to generate an answer to the question \"\"\"\n",
    "\n",
    "    # Format the prompt\n",
    "    docs_content = \"\\n\\n\".join(doc.page_content for doc in state[\"context\"])\n",
    "    formated_prompt = prompt.invoke({\"question\": state[\"question\"], \"context\": docs_content})\n",
    "\n",
    "    # Generate the answer\n",
    "    response = llm.invoke(formated_prompt)\n",
    "    return {\"answer\": response}\n",
    "\n",
    "\n",
    "# Compile application and test\n",
    "graph_builder = StateGraph(State).add_sequence([retrieve, generate])\n",
    "graph_builder.add_edge(START, \"retrieve\") # Start at the retrieve step\n",
    "graph = graph_builder.compile() # Compile the graph"
   ]
  },
  {
   "cell_type": "code",
   "execution_count": 25,
   "metadata": {},
   "outputs": [
    {
     "data": {
      "image/png": "[encoded data removed]",
      "text/plain": [
       "<IPython.core.display.Image object>"
      ]
     },
     "metadata": {},
     "output_type": "display_data"
    }
   ],
   "source": [
    "display(Image(graph.get_graph().draw_mermaid_png()))\n"
   ]
  },
  {
   "cell_type": "code",
   "execution_count": 26,
   "metadata": {},
   "outputs": [
    {
     "data": {
      "text/plain": [
       "{'question': 'What is CloudMate?',\n",
       " 'context': [Document(id='000dd106-662b-4f40-b9fc-397d37d3ada6', metadata={'Header 1': 'About MadeUpCompany', 'Header 2': 'Products and Services', 'Header 3': 'CloudMate – Secure and Scalable Cloud Storage'}, page_content='[About MadeUpCompany/Products and Services/CloudMate – Secure and Scalable Cloud Storage]: \\nCloudMate is our flagship cloud storage solution, designed for businesses of all sizes. Features include:\\n- ✅ Seamless data migration with automated backups\\n- ✅ Military-grade encryption and multi-factor authentication\\n- ✅ Role-based access control for enterprise security\\n- ✅ AI-powered file organization and search capabilities'),\n",
       "  Document(id='fe619a26-f24f-422d-821e-4b9164740ac9', metadata={'Header 1': 'About MadeUpCompany', 'Header 2': 'Products and Services', 'Header 3': 'CloudMate – Secure and Scalable Cloud Storage'}, page_content='[About MadeUpCompany/Products and Services/CloudMate – Secure and Scalable Cloud Storage]: \\nCloudMate is our flagship cloud storage solution, designed for businesses of all sizes. Features include:\\n- ✅ Seamless data migration with automated backups\\n- ✅ Military-grade encryption and multi-factor authentication\\n- ✅ Role-based access control for enterprise security\\n- ✅ AI-powered file organization and search capabilities'),\n",
       "  Document(id='4e721ad9-9c84-441e-83cc-5040eb363971', metadata={'Header 1': 'About MadeUpCompany', 'Header 2': 'Products and Services', 'Header 3': 'CloudMate – Secure and Scalable Cloud Storage'}, page_content='[About MadeUpCompany/Products and Services/CloudMate – Secure and Scalable Cloud Storage]: \\nCloudMate is our flagship cloud storage solution, designed for businesses of all sizes. Features include:\\n- ✅ Seamless data migration with automated backups\\n- ✅ Military-grade encryption and multi-factor authentication\\n- ✅ Role-based access control for enterprise security\\n- ✅ AI-powered file organization and search capabilities')],\n",
       " 'answer': 'Our flagship cloud storage solution, designed for businesses of all sizes.\\n\\n'}"
      ]
     },
     "execution_count": 26,
     "metadata": {},
     "output_type": "execute_result"
    }
   ],
   "source": [
    "response = graph.invoke({\"question\": \"What is CloudMate?\"})\n",
    "\n",
    "response"
   ]
  },
  {
   "cell_type": "code",
   "execution_count": 27,
   "metadata": {},
   "outputs": [],
   "source": [
    "sample_queries = [\n",
    "    \"When was MadeUpCompany founded and where is it headquartered?\",\n",
    "    \"What security features does CloudMate offer for enterprise customers?\",\n",
    "    \"How much does the Professional plan for CloudMate cost and what storage capacity does it include?\",\n",
    "    \"What analytics capabilities does DataWiz provide for business intelligence?\",\n",
    "    \"What compliance standards does MadeUpCompany adhere to?\",\n",
    "    \"What channels are available for technical support at MadeUpCompany?\",\n",
    "    \"What is MadeUpCompany's refund policy for the first 30 days?\",\n",
    "    \"What upcoming collaboration features is MadeUpCompany planning for CloudMate?\",\n",
    "    \"Where are MadeUpCompany's satellite offices located?\",\n",
    "    \"What four core values does MadeUpCompany believe in?\",\n",
    "    \"What professional backgrounds do MadeUpCompany's experts come from?\",\n",
    "    \"What does the Starter plan for DataWiz include and how much does it cost?\",\n",
    "    \"How quickly does MadeUpCompany promise to resolve technical issues?\",\n",
    "    \"What account management features are available through MadeUpCompany's online portal?\",\n",
    "    \"How many users does MadeUpCompany have and what publications have featured them?\",\n",
    "    \"What types of custom AI solutions does MadeUpCompany develop?\",\n",
    "    \"What encryption standard does MadeUpCompany use and where is it applied?\",\n",
    "    \"What are the specifications of the Basic plan for CloudMate?\",\n",
    "    \"What is the guaranteed response time for email support at MadeUpCompany?\",\n",
    "    \"What capabilities does DataWiz offer for fraud prevention?\",\n",
    "    \"How does MadeUpCompany's cancellation policy work after the 30-day period?\",\n",
    "    \"What machine learning capabilities will DataWiz introduce in upcoming features?\",\n",
    "    \"What pricing plan options are available for MadeUpCompany's Enterprise customers?\",\n",
    "    \"What does MadeUpCompany's sustainability value focus on?\",\n",
    "    \"How does MadeUpCompany describe its mission?\"\n",
    "]\n",
    "\n",
    "expected_responses = [\n",
    "    \"MadeUpCompany was founded in 2010 and is headquartered in San Francisco, California.\",\n",
    "    \"CloudMate offers military-grade encryption, multi-factor authentication, and role-based access control for enterprise security.\",\n",
    "    \"The Professional plan for CloudMate costs $29.99/month and includes 1TB of storage, enhanced security, and priority support.\",\n",
    "    \"DataWiz provides predictive analytics for demand forecasting and customer behavior modeling, real-time dashboards with customizable reporting, API integrations with popular business intelligence tools, and automated anomaly detection.\",\n",
    "    \"MadeUpCompany adheres to GDPR, HIPAA, and SOC 2 compliance standards for global security and data protection compliance.\",\n",
    "    \"MadeUpCompany offers toll-free phone support, live chat assistance, email support, comprehensive FAQ and user guides on their website, and a community forum for peer-to-peer discussions.\",\n",
    "    \"MadeUpCompany offers a 30-day money-back guarantee on all plans, allowing customers to request a full refund if they're not satisfied within the first 30 days.\",\n",
    "    \"MadeUpCompany is planning to introduce enhanced real-time document editing and team workspaces for seamless collaboration in CloudMate.\",\n",
    "    \"MadeUpCompany has satellite offices in New York, London, and Tokyo.\",\n",
    "    \"MadeUpCompany believes in innovation, security & privacy, a customer-centric approach, and sustainability.\",\n",
    "    \"MadeUpCompany's experts come from various industries including AI research, cybersecurity, and enterprise software development.\",\n",
    "    \"The Starter plan for DataWiz costs $49/month and includes basic analytics and limited AI insights.\",\n",
    "    \"MadeUpCompany resolves most technical issues within 24 hours, ensuring minimal downtime for businesses.\",\n",
    "    \"Through MadeUpCompany's online portal, customers can upgrade or downgrade plans, access billing history and download invoices, manage multiple users and set role-based permissions, and track storage and analytics usage in real time.\",\n",
    "    \"MadeUpCompany has over 1 million satisfied users worldwide and has been featured in TechCrunch, Forbes, and Wired as a top innovator.\",\n",
    "    \"MadeUpCompany provides tailored machine learning models including NLP-based chatbots and AI-driven recommendation engines to optimize business workflows, automate repetitive tasks, and enhance decision-making.\",\n",
    "    \"MadeUpCompany uses AES-256 encryption to protect data both in transit and at rest.\",\n",
    "    \"The Basic plan for CloudMate costs $9.99/month and includes 100GB storage and essential security features.\",\n",
    "    \"MadeUpCompany guarantees an email support response within 6 hours.\",\n",
    "    \"DataWiz provides automated anomaly detection for fraud prevention and operational efficiency.\",\n",
    "    \"After 30 days, customers may cancel their subscription at any time, and MadeUpCompany will issue a prorated refund based on the remaining subscription period.\",\n",
    "    \"DataWiz will introduce automated trend forecasting powered by deep learning.\",\n",
    "    \"MadeUpCompany offers custom pricing for Enterprise plans with unlimited storage, advanced compliance tools, and a dedicated account manager for CloudMate, and full AI customization with dedicated data scientists for DataWiz.\",\n",
    "    \"MadeUpCompany's sustainability value focuses on ensuring their infrastructure is energy-efficient and environmentally responsible.\",\n",
    "    \"MadeUpCompany's mission is to empower businesses and individuals with cutting-edge technology that enhances efficiency, scalability, and innovation.\"\n",
    "]"
   ]
  },
  {
   "cell_type": "code",
   "execution_count": 28,
   "metadata": {},
   "outputs": [],
   "source": [
    "# create a litellm client\n",
    "litellm.drop_params = True  # watsonx.ai doesn't support `json_mode`\n",
    "client = instructor.from_litellm(completion, mode=Mode.JSON)\n",
    "\n",
    "# create a response model - LLM is forced to return an object of this type\n",
    "class JudgeResponse(BaseModel):\n",
    "    reasoning: str = Field(description=\"Short one-sentence reason for score\")\n",
    "    score: Literal[0, .5, 1] = Field(description=\"Final score\")\n",
    "\n",
    "# define a function to call the judge\n",
    "def call_judge(prompt : str) -> JudgeResponse:\n",
    "    response = client.chat.completions.create(\n",
    "        model=\"watsonx/meta-llama/llama-3-3-70b-instruct\",\n",
    "        max_tokens=1024,\n",
    "        messages=[\n",
    "            {\n",
    "                \"role\": \"user\",\n",
    "                \"content\": prompt,\n",
    "            }\n",
    "        ],\n",
    "        project_id=WX_PROJECT_ID,\n",
    "        apikey=WX_API_KEY,\n",
    "        api_base=WX_API_URL,\n",
    "        response_model=JudgeResponse,\n",
    "        # decoding_method=\"greedy\",\n",
    "        # temperature=0,\n",
    "    )\n",
    "    return response"
   ]
  },
  {
   "cell_type": "code",
   "execution_count": 29,
   "metadata": {},
   "outputs": [],
   "source": [
    "class RAGEvaluator:\n",
    "    \"\"\"\n",
    "    A streamlined evaluator for RAG systems focusing on three key dimensions:\n",
    "    1. Retrieval Quality\n",
    "    2. Answer Correctness\n",
    "    3. Hallucination Detection\n",
    "    \"\"\"\n",
    "    def __init__(self, llm_func):\n",
    "        \"\"\"Initialize with an LLM.\"\"\"\n",
    "        self.llm_func = llm_func\n",
    "            \n",
    "    def evaluate_retrieval_quality(self, response: dict[str, Any], expected_answer: str, verbose : bool = False) -> JudgeResponse:\n",
    "        \"\"\"\n",
    "        Ask LLM if retrieved documents contain information needed for the expected answer.\n",
    "        \"\"\"\n",
    "        # Combine all retrieved document contents with clear formatting\n",
    "        retrieved_text = \"\\n\\n\".join([f\"Document {i+1}:\\n{doc.page_content}\" for i, doc in enumerate(response.get('context', []))])\n",
    "        \n",
    "        prompt = f\"\"\"You are given a set of documents and a fact. Can the fact be found in the documents? Judge by the information, not the exact wording of the fact.\n",
    "        \n",
    "        - Respond with 1 if the fact is present (also if the fact can be pieced together from multiple documents).\n",
    "        - Respond with 0 if the fact is not present in any of the documents.\n",
    "        - Responds with 0.5 ff only part of the fact is present.\n",
    "        \n",
    "        Retrieved Documents: \n",
    "        {retrieved_text}\n",
    "\n",
    "        Fact:\n",
    "        {expected_answer}\n",
    "        \n",
    "        Can the fact be found in the documents? Respond as a JudgeResponse object with: \n",
    "        - a short reason (max 20 words)\n",
    "        - a score of 1, 0.5, or 0.\n",
    "        \"\"\"\n",
    "        \n",
    "        result = self.llm_func(prompt)\n",
    "        if verbose:\n",
    "            print(f\"[evaluation_retrieval_quality] LLM response: {result}\")\n",
    "        return result\n",
    "    \n",
    "    def evaluate_answer_correctness(self, response: dict[str, Any], expected_answer: str, verbose : bool = False) -> JudgeResponse:\n",
    "        \"\"\"\n",
    "        Ask LLM to rate how correct/similar the generated answer is to the expected answer.\n",
    "        \"\"\"\n",
    "        generated_answer = response.get('answer', '')\n",
    "        \n",
    "        prompt = f\"\"\"You are evaluating a RAG system. You are given a question, an expected answer, and a generated answer. Is the generated answer as correct - or close to as correct - as the expected answer? \n",
    "        \n",
    "        - Respond with 1 if the answer is yes (also if the answer is more detailed than expected)\n",
    "        - Respond with 0 if the answer is no. \n",
    "        - respond with 0.5 if the generated answer is partially correct\n",
    "\n",
    "        Question:\n",
    "        {response.get('question', '')}\n",
    "        \n",
    "        Expected answer:\n",
    "        {expected_answer}\n",
    "        \n",
    "        Generated answer:\n",
    "        {generated_answer}\n",
    "        \n",
    "        Is the generated answer correct enough? Consider content correctness rather than exact wording. \n",
    "        Respond as a JudgeResponse object with: \n",
    "        - a short reason (max 20 words)\n",
    "        - a score of 1, 0.5, or 0.\"\"\"\n",
    "        \n",
    "        result = self.llm_func(prompt)\n",
    "        if verbose:\n",
    "            print(f\"[evaluation_answer_correctness] LLM response: {result}\")\n",
    "        return result\n",
    "    \n",
    "    def evaluate_hallucination(self, response: dict[str, Any], verbose : bool = False) -> JudgeResponse:\n",
    "        \"\"\"\n",
    "        Ask LLM to evaluate if the answer contains hallucinations.\n",
    "        \"\"\"\n",
    "        generated_answer = response.get('answer', '')\n",
    "        retrieved_text = \"\\n\\n\".join([f\"Document {i+1}:\\n{doc.page_content}\" for i, doc in enumerate(response.get('context', []))])\n",
    "        \n",
    "        prompt = f\"\"\"You are evaluating a RAG system. Your task is to determine if the generated answer contains hallucinations. Hallucinations are any information that is not directly supported by the retrieved documents. Does the generated answer contain hallucinations? \n",
    "        \n",
    "        - If the answer is no, respond with 0. \n",
    "        - If the answer is yes, respond with 1.\n",
    "        - If the answer is partially hallucinated, respond with 0.5. \n",
    "        - If the generated answer states that it does not know, respond with 0.\n",
    "\n",
    "        Question: \n",
    "        {response.get('question', '')}\n",
    "        \n",
    "        Retrieved context (this is all the information the AI had access to):\n",
    "        {retrieved_text}\n",
    "        \n",
    "        Generated answer:\n",
    "        {generated_answer}\n",
    "        \n",
    "        Does the generated answer contain hallucinations? Respond as a JudgeResponse object with: \n",
    "        - a short reason (max 20 words)\n",
    "        - a score of 1, 0.5, or 0.\n",
    "        \"\"\"\n",
    "        \n",
    "        result = self.llm_func(prompt)\n",
    "        if verbose:\n",
    "            print(f\"[evaluation_hallucination] LLM response: {result}\")\n",
    "        return result\n",
    "    \n",
    "    def evaluate(self, response: dict[str, Any], expected_answer: str, verbose : bool = False) -> dict[str, Any]:\n",
    "        \"\"\"\n",
    "        Evaluate a RAG response across all three dimensions.\n",
    "        \"\"\"\n",
    "        # Get scores for each dimension\n",
    "        retrieval_score = self.evaluate_retrieval_quality(response, expected_answer, verbose=verbose)\n",
    "        correctness_score = self.evaluate_answer_correctness(response, expected_answer, verbose=verbose)\n",
    "        hallucination_score = self.evaluate_hallucination(response, verbose=verbose)\n",
    "        \n",
    "        return {\n",
    "            \"query\": response.get(\"question\", \"\"),\n",
    "            \"retrieved_context\": response.get(\"context\", []),\n",
    "            \"generated_answer\": response.get(\"answer\", \"\"),\n",
    "            \"expected_answer\": expected_answer,\n",
    "            \"retrieval_quality\": retrieval_score.score,\n",
    "            \"answer_correctness\": correctness_score.score, \n",
    "            \"hallucination_score\": hallucination_score.score,  # Lower is better\n",
    "\n",
    "            # keep the reasoning for manual inspection\n",
    "            \"retrieval_quality_reasoning\": retrieval_score.reasoning,\n",
    "            \"answer_correctness_reasoning\": correctness_score.reasoning,\n",
    "            \"hallucination_reasoning\": hallucination_score.reasoning\n",
    "        }\n",
    "\n",
    "\n",
    "def evaluate_rag_system(graph, test_queries, expected_responses, evaluator, verbose=False):\n",
    "    \"\"\"\n",
    "    Evaluate a RAG system on a test set.\n",
    "    \n",
    "    Args:\n",
    "        graph: The LangGraph RAG system with invoke method\n",
    "        test_queries: List of questions to test\n",
    "        expected_responses: List of expected answers\n",
    "        evaluator: The RAG evaluator object\n",
    "        \n",
    "    Returns:\n",
    "        Evaluation results\n",
    "    \"\"\"\n",
    "    results = []\n",
    "    \n",
    "    for query, expected in tqdm(zip(test_queries, expected_responses), total=len(test_queries)):\n",
    "\n",
    "        # Get RAG response\n",
    "        response = graph.invoke({\"question\": query})\n",
    "        \n",
    "        # Evaluate\n",
    "        eval_result = evaluator.evaluate(response, expected, verbose=verbose)\n",
    "        results.append(eval_result)\n",
    "    \n",
    "    # Calculate average scores\n",
    "    avg_metrics = {\n",
    "        \"retrieval_quality\": np.mean([r[\"retrieval_quality\"] for r in results]),\n",
    "        \"answer_correctness\": np.mean([r[\"answer_correctness\"] for r in results]),\n",
    "        \"hallucination\": np.mean([r[\"hallucination_score\"] for r in results])\n",
    "    }\n",
    "\n",
    "    return {\n",
    "        \"individual_results\": results,\n",
    "        \"scores\": avg_metrics,\n",
    "        \"num_queries\": len(test_queries)\n",
    "    }"
   ]
  },
  {
   "cell_type": "code",
   "execution_count": 30,
   "metadata": {},
   "outputs": [
    {
     "name": "stderr",
     "output_type": "stream",
     "text": [
      "  0%|          | 0/25 [00:00<?, ?it/s]"
     ]
    },
    {
     "name": "stdout",
     "output_type": "stream",
     "text": [
      "[evaluation_retrieval_quality] LLM response: reasoning='Fact present in documents' score=1\n",
      "[evaluation_answer_correctness] LLM response: reasoning='Missing founding context' score=0.5\n"
     ]
    },
    {
     "name": "stderr",
     "output_type": "stream",
     "text": [
      "  4%|▍         | 1/25 [00:08<03:30,  8.78s/it]"
     ]
    },
    {
     "name": "stdout",
     "output_type": "stream",
     "text": [
      "[evaluation_hallucination] LLM response: reasoning='Answer is directly supported' score=0\n",
      "[evaluation_retrieval_quality] LLM response: reasoning='Fact mentioned in documents' score=1\n",
      "[evaluation_answer_correctness] LLM response: reasoning='Partially correct features' score=0.5\n"
     ]
    },
    {
     "name": "stderr",
     "output_type": "stream",
     "text": [
      "  8%|▊         | 2/25 [00:18<03:37,  9.48s/it]"
     ]
    },
    {
     "name": "stdout",
     "output_type": "stream",
     "text": [
      "[evaluation_hallucination] LLM response: reasoning='Answer is directly supported' score=0\n",
      "[evaluation_retrieval_quality] LLM response: reasoning='Fact matches documents' score=1\n",
      "[evaluation_answer_correctness] LLM response: reasoning='Mostly correct' score=0.5\n"
     ]
    },
    {
     "name": "stderr",
     "output_type": "stream",
     "text": [
      " 12%|█▏        | 3/25 [00:29<03:37,  9.88s/it]"
     ]
    },
    {
     "name": "stdout",
     "output_type": "stream",
     "text": [
      "[evaluation_hallucination] LLM response: reasoning='Answer is directly supported' score=0\n",
      "[evaluation_retrieval_quality] LLM response: reasoning='Fact fully described' score=1\n",
      "[evaluation_answer_correctness] LLM response: reasoning='Similar content' score=1\n"
     ]
    },
    {
     "name": "stderr",
     "output_type": "stream",
     "text": [
      " 16%|█▌        | 4/25 [00:38<03:27,  9.86s/it]"
     ]
    },
    {
     "name": "stdout",
     "output_type": "stream",
     "text": [
      "[evaluation_hallucination] LLM response: reasoning='Answer is fully supported' score=0\n",
      "[evaluation_retrieval_quality] LLM response: reasoning='Fact mentioned in documents' score=1\n",
      "[evaluation_answer_correctness] LLM response: reasoning='Similar content' score=0.5\n"
     ]
    },
    {
     "name": "stderr",
     "output_type": "stream",
     "text": [
      " 20%|██        | 5/25 [00:51<03:39, 10.98s/it]"
     ]
    },
    {
     "name": "stdout",
     "output_type": "stream",
     "text": [
      "[evaluation_hallucination] LLM response: reasoning='Answer is directly supported' score=0\n",
      "[evaluation_retrieval_quality] LLM response: reasoning='Fact fully described' score=1\n",
      "[evaluation_answer_correctness] LLM response: reasoning='Missing user guides' score=0.5\n"
     ]
    },
    {
     "name": "stderr",
     "output_type": "stream",
     "text": [
      " 24%|██▍       | 6/25 [01:01<03:19, 10.48s/it]"
     ]
    },
    {
     "name": "stdout",
     "output_type": "stream",
     "text": [
      "[evaluation_hallucination] LLM response: reasoning='Answer matches retrieved documents' score=0\n",
      "[evaluation_retrieval_quality] LLM response: reasoning='Fact stated in documents' score=1\n",
      "[evaluation_answer_correctness] LLM response: reasoning='Lacks details' score=0.5\n"
     ]
    },
    {
     "name": "stderr",
     "output_type": "stream",
     "text": [
      " 28%|██▊       | 7/25 [01:13<03:20, 11.15s/it]"
     ]
    },
    {
     "name": "stdout",
     "output_type": "stream",
     "text": [
      "[evaluation_hallucination] LLM response: reasoning='Lacks details' score=0.5\n",
      "[evaluation_retrieval_quality] LLM response: reasoning='Fact mentioned in documents' score=1\n",
      "[evaluation_answer_correctness] LLM response: reasoning='Missing company name, otherwise correct' score=0.5\n"
     ]
    },
    {
     "name": "stderr",
     "output_type": "stream",
     "text": [
      " 32%|███▏      | 8/25 [01:25<03:12, 11.32s/it]"
     ]
    },
    {
     "name": "stdout",
     "output_type": "stream",
     "text": [
      "[evaluation_hallucination] LLM response: reasoning='Answer is directly supported' score=0\n",
      "[evaluation_retrieval_quality] LLM response: reasoning='Fact mentioned in documents' score=1\n",
      "[evaluation_answer_correctness] LLM response: reasoning='Lacks company name' score=0.5\n"
     ]
    },
    {
     "name": "stderr",
     "output_type": "stream",
     "text": [
      " 36%|███▌      | 9/25 [01:37<03:01, 11.34s/it]"
     ]
    },
    {
     "name": "stdout",
     "output_type": "stream",
     "text": [
      "[evaluation_hallucination] LLM response: reasoning='Answer is directly supported' score=0\n",
      "[evaluation_retrieval_quality] LLM response: reasoning='Fact fully present' score=1\n",
      "[evaluation_answer_correctness] LLM response: reasoning='Core values listed correctly' score=1\n"
     ]
    },
    {
     "name": "stderr",
     "output_type": "stream",
     "text": [
      " 40%|████      | 10/25 [01:46<02:41, 10.74s/it]"
     ]
    },
    {
     "name": "stdout",
     "output_type": "stream",
     "text": [
      "[evaluation_hallucination] LLM response: reasoning='Answer matches retrieved documents' score=0\n",
      "[evaluation_retrieval_quality] LLM response: reasoning='Fact mentioned in documents' score=1\n",
      "[evaluation_answer_correctness] LLM response: reasoning='Missing company name' score=0.5\n"
     ]
    },
    {
     "name": "stderr",
     "output_type": "stream",
     "text": [
      " 44%|████▍     | 11/25 [01:56<02:26, 10.46s/it]"
     ]
    },
    {
     "name": "stdout",
     "output_type": "stream",
     "text": [
      "[evaluation_hallucination] LLM response: reasoning='Answer is directly supported' score=0\n",
      "[evaluation_retrieval_quality] LLM response: reasoning='Fact matches document content' score=1\n",
      "[evaluation_answer_correctness] LLM response: reasoning='Matches expected content' score=1\n"
     ]
    },
    {
     "name": "stderr",
     "output_type": "stream",
     "text": [
      " 48%|████▊     | 12/25 [02:06<02:15, 10.45s/it]"
     ]
    },
    {
     "name": "stdout",
     "output_type": "stream",
     "text": [
      "[evaluation_hallucination] LLM response: reasoning='Answer matches retrieved context' score=0\n",
      "[evaluation_retrieval_quality] LLM response: reasoning='Fact stated in documents' score=1\n",
      "[evaluation_answer_correctness] LLM response: reasoning='Partially correct timeframe' score=0.5\n"
     ]
    },
    {
     "name": "stderr",
     "output_type": "stream",
     "text": [
      " 52%|█████▏    | 13/25 [02:16<02:01, 10.13s/it]"
     ]
    },
    {
     "name": "stdout",
     "output_type": "stream",
     "text": [
      "[evaluation_hallucination] LLM response: reasoning='Directly supported by context' score=0\n",
      "[evaluation_retrieval_quality] LLM response: reasoning='Fact fully present' score=1\n",
      "[evaluation_answer_correctness] LLM response: reasoning='Generated answer is more detailed' score=1\n"
     ]
    },
    {
     "name": "stderr",
     "output_type": "stream",
     "text": [
      " 56%|█████▌    | 14/25 [02:25<01:50, 10.01s/it]"
     ]
    },
    {
     "name": "stdout",
     "output_type": "stream",
     "text": [
      "[evaluation_hallucination] LLM response: reasoning='Answer matches retrieved context' score=0\n",
      "[evaluation_retrieval_quality] LLM response: reasoning='Fact fully present' score=1\n",
      "[evaluation_answer_correctness] LLM response: reasoning='Lacks publication information' score=0.5\n"
     ]
    },
    {
     "name": "stderr",
     "output_type": "stream",
     "text": [
      " 60%|██████    | 15/25 [02:35<01:38,  9.87s/it]"
     ]
    },
    {
     "name": "stdout",
     "output_type": "stream",
     "text": [
      "[evaluation_hallucination] LLM response: reasoning='Answer is directly supported' score=0\n",
      "[evaluation_retrieval_quality] LLM response: reasoning='Fact fully present' score=1\n",
      "[evaluation_answer_correctness] LLM response: reasoning='Partial match' score=0.5\n"
     ]
    },
    {
     "name": "stderr",
     "output_type": "stream",
     "text": [
      " 64%|██████▍   | 16/25 [02:45<01:29,  9.91s/it]"
     ]
    },
    {
     "name": "stdout",
     "output_type": "stream",
     "text": [
      "[evaluation_hallucination] LLM response: reasoning='Answer is directly supported' score=0\n",
      "[evaluation_retrieval_quality] LLM response: reasoning='Fact mentioned in documents' score=1\n",
      "[evaluation_answer_correctness] LLM response: reasoning='Matches expected content' score=1\n"
     ]
    },
    {
     "name": "stderr",
     "output_type": "stream",
     "text": [
      " 68%|██████▊   | 17/25 [02:55<01:18,  9.86s/it]"
     ]
    },
    {
     "name": "stdout",
     "output_type": "stream",
     "text": [
      "[evaluation_hallucination] LLM response: reasoning='Answer fully supported' score=0\n",
      "[evaluation_retrieval_quality] LLM response: reasoning='Fact mentioned in documents' score=1\n",
      "[evaluation_answer_correctness] LLM response: reasoning='Missing cost info' score=0.5\n"
     ]
    },
    {
     "name": "stderr",
     "output_type": "stream",
     "text": [
      " 72%|███████▏  | 18/25 [03:04<01:07,  9.64s/it]"
     ]
    },
    {
     "name": "stdout",
     "output_type": "stream",
     "text": [
      "[evaluation_hallucination] LLM response: reasoning='Answer matches retrieved documents' score=0\n",
      "[evaluation_retrieval_quality] LLM response: reasoning='Fact stated in documents' score=1\n",
      "[evaluation_answer_correctness] LLM response: reasoning='Missing company name' score=0.5\n"
     ]
    },
    {
     "name": "stderr",
     "output_type": "stream",
     "text": [
      " 76%|███████▌  | 19/25 [03:13<00:56,  9.48s/it]"
     ]
    },
    {
     "name": "stdout",
     "output_type": "stream",
     "text": [
      "[evaluation_hallucination] LLM response: reasoning='Answer is directly supported' score=0\n",
      "[evaluation_retrieval_quality] LLM response: reasoning='Fact explicitly mentioned' score=1\n",
      "[evaluation_answer_correctness] LLM response: reasoning=' Partially correct' score=0.5\n"
     ]
    },
    {
     "name": "stderr",
     "output_type": "stream",
     "text": [
      " 80%|████████  | 20/25 [03:23<00:49,  9.83s/it]"
     ]
    },
    {
     "name": "stdout",
     "output_type": "stream",
     "text": [
      "[evaluation_hallucination] LLM response: reasoning='Answer matches retrieved context' score=0\n",
      "[evaluation_retrieval_quality] LLM response: reasoning='Fact is fully present' score=1\n",
      "[evaluation_answer_correctness] LLM response: reasoning='Similar refund policy' score=1\n"
     ]
    },
    {
     "name": "stderr",
     "output_type": "stream",
     "text": [
      " 84%|████████▍ | 21/25 [03:33<00:39,  9.82s/it]"
     ]
    },
    {
     "name": "stdout",
     "output_type": "stream",
     "text": [
      "[evaluation_hallucination] LLM response: reasoning=\"Added 'more generous' detail\" score=1\n",
      "[evaluation_retrieval_quality] LLM response: reasoning='No trend forecasting mentioned' score=0\n",
      "[evaluation_answer_correctness] LLM response: reasoning='Partial match on forecasting' score=0.5\n"
     ]
    },
    {
     "name": "stderr",
     "output_type": "stream",
     "text": [
      " 88%|████████▊ | 22/25 [03:42<00:28,  9.63s/it]"
     ]
    },
    {
     "name": "stdout",
     "output_type": "stream",
     "text": [
      "[evaluation_hallucination] LLM response: reasoning='Answer is directly supported' score=0\n",
      "[evaluation_retrieval_quality] LLM response: reasoning='Pricing plans mentioned, but details lacking' score=0.5\n",
      "[evaluation_answer_correctness] LLM response: reasoning='Incorrect options' score=0\n"
     ]
    },
    {
     "name": "stderr",
     "output_type": "stream",
     "text": [
      " 92%|█████████▏| 23/25 [03:53<00:19,  9.83s/it]"
     ]
    },
    {
     "name": "stdout",
     "output_type": "stream",
     "text": [
      "[evaluation_hallucination] LLM response: reasoning='Lacks specifics on plans' score=1\n",
      "[evaluation_retrieval_quality] LLM response: reasoning='Fact present' score=1\n",
      "[evaluation_answer_correctness] LLM response: reasoning='Similar content, concise' score=1\n"
     ]
    },
    {
     "name": "stderr",
     "output_type": "stream",
     "text": [
      " 96%|█████████▌| 24/25 [04:02<00:09,  9.57s/it]"
     ]
    },
    {
     "name": "stdout",
     "output_type": "stream",
     "text": [
      "[evaluation_hallucination] LLM response: reasoning='Answer is directly supported' score=0\n",
      "[evaluation_retrieval_quality] LLM response: reasoning='Fact present in documents' score=1\n",
      "[evaluation_answer_correctness] LLM response: reasoning='Mission statement content is correct' score=1\n"
     ]
    },
    {
     "name": "stderr",
     "output_type": "stream",
     "text": [
      "100%|██████████| 25/25 [04:12<00:00, 10.09s/it]"
     ]
    },
    {
     "name": "stdout",
     "output_type": "stream",
     "text": [
      "[evaluation_hallucination] LLM response: reasoning='Answer is direct quote' score=0\n"
     ]
    },
    {
     "name": "stderr",
     "output_type": "stream",
     "text": [
      "\n"
     ]
    },
    {
     "data": {
      "text/plain": [
       "{'retrieval_quality': 0.94, 'answer_correctness': 0.64, 'hallucination': 0.1}"
      ]
     },
     "execution_count": 30,
     "metadata": {},
     "output_type": "execute_result"
    }
   ],
   "source": [
    "results = evaluate_rag_system(\n",
    "    graph, \n",
    "    sample_queries,\n",
    "    expected_responses,\n",
    "    evaluator=RAGEvaluator(llm_func=call_judge),\n",
    "    verbose=True\n",
    ")\n",
    "\n",
    "results[\"scores\"]"
   ]
  },
  {
   "cell_type": "code",
   "execution_count": 31,
   "metadata": {},
   "outputs": [
    {
     "data": {
      "image/png": "[encoded data removed]",
      "text/plain": [
       "<Figure size 640x480 with 1 Axes>"
      ]
     },
     "metadata": {},
     "output_type": "display_data"
    }
   ],
   "source": [
    "def plot_scores(scores):\n",
    "    \"\"\"\n",
    "    Plot the evaluation scores.\n",
    "    \"\"\"\n",
    "    labels = [\"Retrieval Quality\", \"Answer Correctness\", \"Hallucination\"]\n",
    "    scores = [scores[\"retrieval_quality\"], scores[\"answer_correctness\"], scores[\"hallucination\"]]\n",
    "    \n",
    "    _, ax = plt.subplots()\n",
    "    ax.bar(labels, scores)\n",
    "    ax.set_xlabel('Metric')\n",
    "    # set y range to 0-1\n",
    "    ax.set_ylim(0, 1)\n",
    "    ax.set_ylabel('Score')\n",
    "    ax.set_title('RAG Evaluation Scores')\n",
    "    plt.show()\n",
    "\n",
    "plot_scores(results[\"scores\"])"
   ]
  },
  {
   "cell_type": "code",
   "execution_count": 32,
   "metadata": {},
   "outputs": [
    {
     "name": "stdout",
     "output_type": "stream",
     "text": [
      "RAG Evaluation Scores:\n",
      "Retrieval Quality: 0.940\n",
      "Answer Correctness: 0.640\n",
      "Hallucination: 0.100\n"
     ]
    }
   ],
   "source": [
    "def print_scores(scores):\n",
    "    \"\"\"\n",
    "    Print the evaluation scores.\n",
    "    \"\"\"\n",
    "    print(\"RAG Evaluation Scores:\")\n",
    "    print(f\"Retrieval Quality: {scores['retrieval_quality']:.3f}\")\n",
    "    print(f\"Answer Correctness: {scores['answer_correctness']:.3f}\")\n",
    "    print(f\"Hallucination: {scores['hallucination']:.3f}\")\n",
    "\n",
    "# Assuming results[\"scores\"] is your score dictionary\n",
    "print_scores(results[\"scores\"])\n"
   ]
  },
  {
   "cell_type": "code",
   "execution_count": 33,
   "metadata": {},
   "outputs": [
    {
     "data": {
      "text/plain": [
       "[{'query': 'When was MadeUpCompany founded and where is it headquartered?',\n",
       "  'retrieved_context': [Document(id='7d402196-e469-452e-adde-82fe48209c8b', metadata={'Header 1': 'About MadeUpCompany'}, page_content='[About MadeUpCompany]: \\nMadeUpCompany is a pioneering technology firm founded in 2010, specializing in cloud computing, data analytics, and machine learning. Headquartered in San Francisco, California, we have a global presence with satellite offices in New York, London, and Tokyo. Our mission is to empower businesses and individuals with cutting-edge technology that enhances efficiency, scalability, and innovation.  \\nWith a diverse team of experts from various industries—including AI research, cybersecurity, and enterprise software development—we push the boundaries of what’s possible. Our commitment to continuous improvement, security, and customer success has earned us recognition as a leader in the tech space.'),\n",
       "   Document(id='e4b8190e-fdcd-46ab-8bbc-03bcc0463192', metadata={'Header 1': 'About MadeUpCompany'}, page_content='[About MadeUpCompany]: \\nMadeUpCompany is a pioneering technology firm founded in 2010, specializing in cloud computing, data analytics, and machine learning. Headquartered in San Francisco, California, we have a global presence with satellite offices in New York, London, and Tokyo. Our mission is to empower businesses and individuals with cutting-edge technology that enhances efficiency, scalability, and innovation.  \\nWith a diverse team of experts from various industries—including AI research, cybersecurity, and enterprise software development—we push the boundaries of what’s possible. Our commitment to continuous improvement, security, and customer success has earned us recognition as a leader in the tech space.'),\n",
       "   Document(id='ced4b36d-c8ef-4d4f-b441-6c6c4a89291f', metadata={'Header 1': 'About MadeUpCompany'}, page_content='[About MadeUpCompany]: \\nMadeUpCompany is a pioneering technology firm founded in 2010, specializing in cloud computing, data analytics, and machine learning. Headquartered in San Francisco, California, we have a global presence with satellite offices in New York, London, and Tokyo. Our mission is to empower businesses and individuals with cutting-edge technology that enhances efficiency, scalability, and innovation.  \\nWith a diverse team of experts from various industries—including AI research, cybersecurity, and enterprise software development—we push the boundaries of what’s possible. Our commitment to continuous improvement, security, and customer success has earned us recognition as a leader in the tech space.')],\n",
       "  'generated_answer': '2010, San Francisco, California',\n",
       "  'expected_answer': 'MadeUpCompany was founded in 2010 and is headquartered in San Francisco, California.',\n",
       "  'retrieval_quality': 1,\n",
       "  'answer_correctness': 0.5,\n",
       "  'hallucination_score': 0,\n",
       "  'retrieval_quality_reasoning': 'Fact present in documents',\n",
       "  'answer_correctness_reasoning': 'Missing founding context',\n",
       "  'hallucination_reasoning': 'Answer is directly supported'},\n",
       " {'query': 'What security features does CloudMate offer for enterprise customers?',\n",
       "  'retrieved_context': [Document(id='dbe7a49f-0855-47a4-a22c-9ff016f9e405', metadata={'Header 1': 'About MadeUpCompany', 'Header 2': 'Products and Services', 'Header 3': 'CloudMate – Secure and Scalable Cloud Storage'}, page_content='[About MadeUpCompany/Products and Services/CloudMate – Secure and Scalable Cloud Storage]: \\nCloudMate is our flagship cloud storage solution, designed for businesses of all sizes. Features include:\\n- ✅ Seamless data migration with automated backups\\n- ✅ Military-grade encryption and multi-factor authentication\\n- ✅ Role-based access control for enterprise security\\n- ✅ AI-powered file organization and search capabilities'),\n",
       "   Document(id='9dedf537-2de0-4a15-ac27-3189655f0a80', metadata={'Header 1': 'About MadeUpCompany', 'Header 2': 'Products and Services', 'Header 3': 'CloudMate – Secure and Scalable Cloud Storage'}, page_content='[About MadeUpCompany/Products and Services/CloudMate – Secure and Scalable Cloud Storage]: \\nCloudMate is our flagship cloud storage solution, designed for businesses of all sizes. Features include:\\n- ✅ Seamless data migration with automated backups\\n- ✅ Military-grade encryption and multi-factor authentication\\n- ✅ Role-based access control for enterprise security\\n- ✅ AI-powered file organization and search capabilities'),\n",
       "   Document(id='a019fb33-4ea5-494e-bd70-ee626c3b18c2', metadata={'Header 1': 'About MadeUpCompany', 'Header 2': 'Products and Services', 'Header 3': 'CloudMate – Secure and Scalable Cloud Storage'}, page_content='[About MadeUpCompany/Products and Services/CloudMate – Secure and Scalable Cloud Storage]: \\nCloudMate is our flagship cloud storage solution, designed for businesses of all sizes. Features include:\\n- ✅ Seamless data migration with automated backups\\n- ✅ Military-grade encryption and multi-factor authentication\\n- ✅ Role-based access control for enterprise security\\n- ✅ AI-powered file organization and search capabilities')],\n",
       "  'generated_answer': 'Military-grade encryption and multi-factor authentication',\n",
       "  'expected_answer': 'CloudMate offers military-grade encryption, multi-factor authentication, and role-based access control for enterprise security.',\n",
       "  'retrieval_quality': 1,\n",
       "  'answer_correctness': 0.5,\n",
       "  'hallucination_score': 0,\n",
       "  'retrieval_quality_reasoning': 'Fact mentioned in documents',\n",
       "  'answer_correctness_reasoning': 'Partially correct features',\n",
       "  'hallucination_reasoning': 'Answer is directly supported'},\n",
       " {'query': 'How much does the Professional plan for CloudMate cost and what storage capacity does it include?',\n",
       "  'retrieved_context': [Document(id='0b3a4e44-36c2-4dfa-8a98-ed4fc52f6ea3', metadata={'Header 1': 'About MadeUpCompany', 'Header 2': 'Pricing', 'Header 3': 'CloudMate Plans'}, page_content='[About MadeUpCompany/Pricing/CloudMate Plans]: \\nOur secure and scalable cloud storage service, CloudMate, is available in the following plans:\\n- Basic: $9.99/month – 100GB storage, essential security features\\n- Professional: $29.99/month – 1TB storage, enhanced security, priority support\\n- Enterprise: Custom pricing – Unlimited storage, advanced compliance tools, dedicated account manager'),\n",
       "   Document(id='4e8f0805-9277-406f-8a80-a3645d9a39bc', metadata={'Header 1': 'About MadeUpCompany', 'Header 2': 'Pricing', 'Header 3': 'CloudMate Plans'}, page_content='[About MadeUpCompany/Pricing/CloudMate Plans]: \\nOur secure and scalable cloud storage service, CloudMate, is available in the following plans:\\n- Basic: $9.99/month – 100GB storage, essential security features\\n- Professional: $29.99/month – 1TB storage, enhanced security, priority support\\n- Enterprise: Custom pricing – Unlimited storage, advanced compliance tools, dedicated account manager'),\n",
       "   Document(id='7676d8bf-0f3e-48c0-b956-4eca8c06c674', metadata={'Header 1': 'About MadeUpCompany', 'Header 2': 'Pricing', 'Header 3': 'CloudMate Plans'}, page_content='[About MadeUpCompany/Pricing/CloudMate Plans]: \\nOur secure and scalable cloud storage service, CloudMate, is available in the following plans:\\n- Basic: $9.99/month – 100GB storage, essential security features\\n- Professional: $29.99/month – 1TB storage, enhanced security, priority support\\n- Enterprise: Custom pricing – Unlimited storage, advanced compliance tools, dedicated account manager')],\n",
       "  'generated_answer': 'The Professional Plan costs $29.99 per month and includes 1 TB of storage space.',\n",
       "  'expected_answer': 'The Professional plan for CloudMate costs $29.99/month and includes 1TB of storage, enhanced security, and priority support.',\n",
       "  'retrieval_quality': 1,\n",
       "  'answer_correctness': 0.5,\n",
       "  'hallucination_score': 0,\n",
       "  'retrieval_quality_reasoning': 'Fact matches documents',\n",
       "  'answer_correctness_reasoning': 'Mostly correct',\n",
       "  'hallucination_reasoning': 'Answer is directly supported'},\n",
       " {'query': 'What analytics capabilities does DataWiz provide for business intelligence?',\n",
       "  'retrieved_context': [Document(id='ffaf9a25-4d96-4002-b9e1-dd5a87265df2', metadata={'Header 1': 'About MadeUpCompany', 'Header 2': 'Products and Services', 'Header 3': 'DataWiz – Advanced Data Analytics'}, page_content='[About MadeUpCompany/Products and Services/DataWiz – Advanced Data Analytics]: \\nDataWiz transforms raw data into actionable insights using cutting-edge machine learning models. Features include:\\n- 📊 Predictive analytics for demand forecasting and customer behavior modeling\\n- 📊 Real-time dashboards with customizable reporting\\n- 📊 API integrations with popular business intelligence tools\\n- 📊 Automated anomaly detection for fraud prevention and operational efficiency'),\n",
       "   Document(id='95d51581-b68b-4515-9fa5-39d0a1145b61', metadata={'Header 1': 'About MadeUpCompany', 'Header 2': 'Products and Services', 'Header 3': 'DataWiz – Advanced Data Analytics'}, page_content='[About MadeUpCompany/Products and Services/DataWiz – Advanced Data Analytics]: \\nDataWiz transforms raw data into actionable insights using cutting-edge machine learning models. Features include:\\n- 📊 Predictive analytics for demand forecasting and customer behavior modeling\\n- 📊 Real-time dashboards with customizable reporting\\n- 📊 API integrations with popular business intelligence tools\\n- 📊 Automated anomaly detection for fraud prevention and operational efficiency'),\n",
       "   Document(id='b0cf7369-4e31-4f60-8eb6-18ef9dd0b5ec', metadata={'Header 1': 'About MadeUpCompany', 'Header 2': 'Products and Services', 'Header 3': 'DataWiz – Advanced Data Analytics'}, page_content='[About MadeUpCompany/Products and Services/DataWiz – Advanced Data Analytics]: \\nDataWiz transforms raw data into actionable insights using cutting-edge machine learning models. Features include:\\n- 📊 Predictive analytics for demand forecasting and customer behavior modeling\\n- 📊 Real-time dashboards with customizable reporting\\n- 📊 API integrations with popular business intelligence tools\\n- 📊 Automated anomaly detection for fraud prevention and operational efficiency')],\n",
       "  'generated_answer': 'Predictive analytics for demand forecasting and customer behavior modeling, real-time dashboards with customizable reporting, API integrations with popular business intelligence tools, automated anomaly detection for fraud prevention and operational efficiency',\n",
       "  'expected_answer': 'DataWiz provides predictive analytics for demand forecasting and customer behavior modeling, real-time dashboards with customizable reporting, API integrations with popular business intelligence tools, and automated anomaly detection.',\n",
       "  'retrieval_quality': 1,\n",
       "  'answer_correctness': 1,\n",
       "  'hallucination_score': 0,\n",
       "  'retrieval_quality_reasoning': 'Fact fully described',\n",
       "  'answer_correctness_reasoning': 'Similar content',\n",
       "  'hallucination_reasoning': 'Answer is fully supported'},\n",
       " {'query': 'What compliance standards does MadeUpCompany adhere to?',\n",
       "  'retrieved_context': [Document(id='2e689d2f-1ec9-45b5-a2f4-cd635f1bdc25', metadata={'Header 1': 'About MadeUpCompany', 'Header 2': 'Security and Compliance'}, page_content='[About MadeUpCompany/Security and Compliance]: \\nSecurity is at the heart of everything we do. MadeUpCompany adheres to the highest security and regulatory standards, including:  \\n- 🔒 GDPR, HIPAA, and SOC 2 Compliance – Ensuring global security and data protection compliance.\\n- 🔒 End-to-End Encryption – Protecting data in transit and at rest with AES-256 encryption.\\n- 🔒 Zero Trust Architecture – Implementing rigorous access control and continuous authentication.\\n- 🔒 DDoS Protection & Advanced Threat Detection – Safeguarding against cyber threats with AI-powered monitoring.  \\nOur team continuously updates security measures to stay ahead of evolving cyber risks.'),\n",
       "   Document(id='5f016f9e-b880-4a1f-bb76-e62dc562ef05', metadata={'Header 1': 'About MadeUpCompany', 'Header 2': 'Security and Compliance'}, page_content='[About MadeUpCompany/Security and Compliance]: \\nSecurity is at the heart of everything we do. MadeUpCompany adheres to the highest security and regulatory standards, including:  \\n- 🔒 GDPR, HIPAA, and SOC 2 Compliance – Ensuring global security and data protection compliance.\\n- 🔒 End-to-End Encryption – Protecting data in transit and at rest with AES-256 encryption.\\n- 🔒 Zero Trust Architecture – Implementing rigorous access control and continuous authentication.\\n- 🔒 DDoS Protection & Advanced Threat Detection – Safeguarding against cyber threats with AI-powered monitoring.  \\nOur team continuously updates security measures to stay ahead of evolving cyber risks.'),\n",
       "   Document(id='8586665e-201c-4088-bc35-d48c277d344c', metadata={'Header 1': 'About MadeUpCompany', 'Header 2': 'Security and Compliance'}, page_content='[About MadeUpCompany/Security and Compliance]: \\nSecurity is at the heart of everything we do. MadeUpCompany adheres to the highest security and regulatory standards, including:  \\n- 🔒 GDPR, HIPAA, and SOC 2 Compliance – Ensuring global security and data protection compliance.\\n- 🔒 End-to-End Encryption – Protecting data in transit and at rest with AES-256 encryption.\\n- 🔒 Zero Trust Architecture – Implementing rigorous access control and continuous authentication.\\n- 🔒 DDoS Protection & Advanced Threat Detection – Safeguarding against cyber threats with AI-powered monitoring.  \\nOur team continuously updates security measures to stay ahead of evolving cyber risks.')],\n",
       "  'generated_answer': 'GDPR, HIPAA, and SOC 2 Compliance',\n",
       "  'expected_answer': 'MadeUpCompany adheres to GDPR, HIPAA, and SOC 2 compliance standards for global security and data protection compliance.',\n",
       "  'retrieval_quality': 1,\n",
       "  'answer_correctness': 0.5,\n",
       "  'hallucination_score': 0,\n",
       "  'retrieval_quality_reasoning': 'Fact mentioned in documents',\n",
       "  'answer_correctness_reasoning': 'Similar content',\n",
       "  'hallucination_reasoning': 'Answer is directly supported'}]"
      ]
     },
     "execution_count": 33,
     "metadata": {},
     "output_type": "execute_result"
    }
   ],
   "source": [
    "results[\"individual_results\"][:5]\n"
   ]
  },
  {
   "cell_type": "markdown",
   "metadata": {},
   "source": [
    "Analysis:\n",
    "\n",
    "Improvements over baseline results has been done in iterations.\n",
    "Baseline results:\n",
    "RAG Evaluation Scores:\n",
    "Retrieval Quality: 0.980\n",
    "Answer Correctness: 0.700\n",
    "Hallucination: 0.020\n",
    "\n",
    "Iteration 1:\n",
    "Switch temperature to 0.4. \n",
    "Reasoning: Increasing the temperature might help the system to generate more nuanced answers in scenarios where creativity can be beneficial. \n",
    "RAG Evaluation Scores:\n",
    "Retrieval Quality: 0.920\n",
    "Answer Correctness: 0.640\n",
    "Hallucination: 0.060\n",
    "\n",
    "Retrieval Quality (0.920) and Answer Correctness (0.640) have both dropped slightly.\n",
    "Hallucination (0.060) has increased, suggesting that the output is more prone to including content that isn’t fully supported by the retrieved context.\n",
    "\n",
    "In this case, it's prefered to ensure factual accuracy and adherence to the retrieved documents, a lower temperature and deterministic approach is prefered. \n",
    "\n",
    "Iteration 2:\n",
    "Increase the number of retrieved documents to k = 5 while keeping other parameters constant.\n",
    "Reasoning:\n",
    "Results:\n",
    "\n",
    "k = 16\n",
    "RAG Evaluation Scores:\n",
    "Retrieval Quality: 0.920\n",
    "Answer Correctness: 0.600\n",
    "Hallucination: 0.080\n",
    "\n",
    "k = 6\n",
    "RAG Evaluation Scores:\n",
    "Retrieval Quality: 0.920\n",
    "Answer Correctness: 0.620\n",
    "Hallucination: 0.080\n",
    "\n",
    "k = 5\n",
    "RAG Evaluation Scores:\n",
    "Retrieval Quality: 0.920\n",
    "Answer Correctness: 0.660\n",
    "Hallucination: 0.080\n",
    "\n",
    "k = 4\n",
    "RAG Evaluation Scores:\n",
    "Retrieval Quality: 0.920\n",
    "Answer Correctness: 0.660\n",
    "Hallucination: 0.100\n",
    "\n",
    "k = 3 (baseline)\n",
    "RAG Evaluation Scores:\n",
    "Retrieval Quality: 0.980\n",
    "Answer Correctness: 0.700\n",
    "Hallucination: 0.020\n",
    "\n",
    "k = 2\n",
    "RAG Evaluation Scores:\n",
    "Retrieval Quality: 0.920\n",
    "Answer Correctness: 0.640\n",
    "Hallucination: 0.080\n",
    "\n",
    "Increasing k adds more context, but if the additional documents are not highly relevant, they introduce competing signals. This increased noise leads to a decrease in answer correctness and a rise in hallucination, as it seems that the model struggles to discern which information is most important. \n",
    "The results seems to imply that:\n",
    "When k > 3: Additional documents may bring in some irrelevant or redundant context.\n",
    "When k<3: There might not be enough context to cover the fact fully.\n",
    "\n",
    "Iteration 3:\n",
    "Adjust your text chunking strategy (e.g., more granular chunking or overlapping chunks) and compare evaluation scores.\n",
    "Reasoning:\n",
    "Expected results: \n",
    "Results:\n",
    "\n",
    "\n",
    "Final thoughts: "
   ]
  },
  {
   "cell_type": "code",
   "execution_count": null,
   "metadata": {},
   "outputs": [],
   "source": []
  }
 ],
 "metadata": {
  "kernelspec": {
   "display_name": "Python (aiml25-ma3)",
   "language": "python",
   "name": "aiml25-ma3"
  },
  "language_info": {
   "codemirror_mode": {
    "name": "ipython",
    "version": 3
   },
   "file_extension": ".py",
   "mimetype": "text/x-python",
   "name": "python",
   "nbconvert_exporter": "python",
   "pygments_lexer": "ipython3",
   "version": "3.11.11"
  }
 },
 "nbformat": 4,
 "nbformat_minor": 2
}
