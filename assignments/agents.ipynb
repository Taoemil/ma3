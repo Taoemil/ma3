{
 "cells": [
  {
   "cell_type": "markdown",
   "metadata": {},
   "source": [
    "**AI & Machine Learning (KAN-CINTO4003U) - Copenhagen Business School | Spring 2025**\n",
    "\n",
    "***"
   ]
  },
  {
   "cell_type": "markdown",
   "metadata": {},
   "source": [
    "# Part II: Agents\n",
    "\n",
    "Please see the description of the assignment in the README file (section 1) <br>\n",
    "**Guide notebooks**: [guides/router_agents_guide.ipynb](guides/agents_guide.ipynb) and [guides/tool_agents_guide.ipynb](guides/tool_agents_guide.ipynb)\n",
    "\n",
    "\n",
    "***\n",
    "<br>\n",
    "\n",
    "* Play around with the agent systems in the guides. Maybe try to create a similar system with new nodes? Or you can try to add new tools to the existing tool-using agent system.\n",
    "\n",
    "* Remember to include some reflections on your results. Are there, for example, any hyperparameters that are particularly important?\n",
    "\n",
    "* You should follow the steps given in the `router_agents_guide` notebook or the `tool_agents_guide` notebook to create your own agent system - or try to optimize the existing ones.\n",
    "\n",
    "<br>\n",
    "\n",
    "***"
   ]
  },
  {
   "cell_type": "code",
   "execution_count": 109,
   "metadata": {},
   "outputs": [],
   "source": [
    "# built-in libraries\n",
    "from typing import Literal, TypedDict,  Any, Optional\n",
    "\n",
    "# langgraph libraries\n",
    "from langgraph.graph import StateGraph, START, END\n",
    "from langchain_core.runnables.graph import  MermaidDrawMethod\n",
    "\n",
    "# misc libraries\n",
    "from pydantic import Field\n",
    "from IPython.display import Image\n",
    "from decouple import config\n",
    "from ibm_watsonx_ai.metanames import GenTextParamsMetaNames as GenParams\n",
    "from tqdm import tqdm\n",
    "from sklearn.metrics import f1_score\n",
    "\n",
    "# local modules\n",
    "from src.llm import LLMCaller"
   ]
  },
  {
   "cell_type": "code",
   "execution_count": 110,
   "metadata": {},
   "outputs": [],
   "source": [
    "WX_API_KEY = config(\"WX_API_KEY\")\n",
    "WX_PROJECT_ID = config(\"WX_PROJECT_ID\")\n",
    "WX_API_URL = \"https://us-south.ml.cloud.ibm.com\""
   ]
  },
  {
   "cell_type": "code",
   "execution_count": 111,
   "metadata": {},
   "outputs": [],
   "source": [
    "model = LLMCaller(\n",
    "    api_key=WX_API_KEY,\n",
    "    project_id=WX_PROJECT_ID,\n",
    "    api_url=WX_API_URL,\n",
    "    model_id=\"watsonx/ibm/granite-3-2-8b-instruct\",\n",
    "    params={\n",
    "        GenParams.TEMPERATURE: 0.7,\n",
    "        GenParams.TOP_P: 0.5, \n",
    "        GenParams.MAX_NEW_TOKENS: 50,\n",
    "    }\n",
    ")"
   ]
  },
  {
   "cell_type": "code",
   "execution_count": 112,
   "metadata": {},
   "outputs": [
    {
     "data": {
      "text/plain": [
       "BaseResponse(answer=\"Silent swimmer glides,\\nIn ocean currents, quiet ride,\\nNature's lullaby.\")"
      ]
     },
     "execution_count": 112,
     "metadata": {},
     "output_type": "execute_result"
    }
   ],
   "source": [
    "response = model.invoke(prompt=\"Write a haiku about a fish\")\n",
    "\n",
    "response"
   ]
  },
  {
   "cell_type": "code",
   "execution_count": 113,
   "metadata": {},
   "outputs": [],
   "source": [
    "class EmailState(TypedDict):\n",
    "\n",
    "    email: dict[str, Any]  # The email being processed - Contains subject, sender, body, etc.\n",
    "    email_category: Optional[str]  # Category of the email (e.g., work, personal, etc.\n",
    "    spam_reason: Optional[str]  # Reason for categorizing the email as spam\n",
    "    is_spam: Optional[bool]  # Whether the email is deemed to be spam or not\n",
    "    draft: Optional[str]  # Draft response to the email\n",
    "    verbose : bool = False  # Whether to provide verbose output"
   ]
  },
  {
   "cell_type": "code",
   "execution_count": 114,
   "metadata": {},
   "outputs": [],
   "source": [
    "# Initialize our LLM\n",
    "def read_email(state: EmailState):\n",
    "    \"\"\"Mailbot reads and logs the incoming email\"\"\"\n",
    "    email = state[\"email\"]  # Extract the email from the state\n",
    "    \n",
    "    if state[\"verbose\"]:\n",
    "        print(f\"Mailbot is processing an email from {email['sender']} with subject: {email['subject']}\")\n",
    "    \n",
    "    # No state changes needed here\n",
    "    return {} # <- if we don't need to update the state, we return an empty dictionary\n",
    "\n",
    "def classify_email(state: EmailState):\n",
    "    \"\"\"Mailbot uses an LLM to determine if the email is spam or legitimate\"\"\"\n",
    "    email = state[\"email\"]  # Extract the email from the state\n",
    "    \n",
    "    # Prepare our prompt for the LLM\n",
    "    prompt = f\"\"\"Analyze this email and determine if it is spam or legitimate.\n",
    "    \n",
    "    Email:\n",
    "    From: {email['sender']}\n",
    "    Subject: {email['subject']}\n",
    "    Body: {email['body']}\n",
    "    \n",
    "    First, determine if this email is spam. If it is spam, explain why.\n",
    "    If it is legitimate, categorize it (inquiry, complaint, thank you, etc.).\n",
    "    \"\"\"\n",
    "    \n",
    "    # Create our response model\n",
    "    response_model = model.create_response_model(\n",
    "        \"EmailAnalysis\", \n",
    "        {\n",
    "            \"spam_reason\": (str, Field(description=\"The reasoning behind the decision.\")),\n",
    "            \"is_spam\": (bool, Field(description=\"Whether the email is spam.\")),\n",
    "            \"email_category\": (Literal[\"Transactional\", \"Marketing\", \"Relational\", \"Administrative\", \"Security/alert\", \"Spam\"], Field(description=\"The category of the email.\")) \n",
    "        }\n",
    "    )\n",
    "\n",
    "    # Call the LLMCaller with the prompt and response model\n",
    "    response = model.invoke(prompt, response_model=response_model)\n",
    "\n",
    "    # Extract the response data\n",
    "    is_spam = response.is_spam\n",
    "    spam_reason = response.spam_reason\n",
    "    email_category = response.email_category\n",
    "    \n",
    "    # Return state updates\n",
    "    return {\n",
    "        \"is_spam\": is_spam,\n",
    "        \"spam_reason\": spam_reason,\n",
    "        \"email_category\": email_category,\n",
    "    }\n",
    "\n",
    "def handle_spam(state: EmailState):\n",
    "    \"\"\"Mailbot discards spam email with a note\"\"\"\n",
    "\n",
    "    if state[\"verbose\"]:\n",
    "        print(f\"Mailbot has identified the email as spam. Reason: {state['spam_reason']}\")\n",
    "        print(\"The email has been moved to the spam folder.\")\n",
    "    \n",
    "    # We're done processing this email\n",
    "    return {}\n",
    "\n",
    "def draft_response(state: EmailState):\n",
    "    \"\"\"Mailbot drafts a preliminary response for legitimate emails\"\"\"\n",
    "    email = state[\"email\"]  # Extract the email from the state\n",
    "    category = state[\"email_category\"] or \"general\"  # Default to a general category if not specified\n",
    "    \n",
    "    # Prepare our prompt for the LLM\n",
    "    prompt = f\"\"\"Draft a polite preliminary response to this email.\n",
    "    \n",
    "    Email:\n",
    "    From: {email['sender']}\n",
    "    Subject: {email['subject']}\n",
    "    Body: {email['body']}\n",
    "    \n",
    "    This email has been categorized as: {category}\n",
    "    \n",
    "    Draft a brief, professional response that your employer can review and personalize before sending.\n",
    "    \"\"\"\n",
    "    \n",
    "    # Call the LLM - this time without a custom response model\n",
    "    response = model.invoke(prompt) # we can use the default response model here\n",
    "    answer = response.answer  # Extract the response from the LLM\n",
    "\n",
    "    # Return state updates\n",
    "    return {\"draft\": answer}  # add the draft response to the state\n",
    "\n",
    "def notify(state: EmailState):\n",
    "    \"\"\"Mailbot notifies its employer about the email and presents the draft response\"\"\"\n",
    "    email = state[\"email\"]  # Extract the email from the state\n",
    "    \n",
    "    if state[\"verbose\"]:\n",
    "        # some pretty printing to emulate the notification\n",
    "        print(\"\\n\" + \"=\"*50)\n",
    "        print(f\"Hi boss, you've received an email from {email['sender']}.\")\n",
    "        print(f\"Subject: {email['subject']}\")\n",
    "        print(f\"Category: {state['email_category']}\")\n",
    "        print(\"\\nI've prepared a draft response for your review:\")\n",
    "        print(\"-\"*50)\n",
    "        print(state[\"draft\"])\n",
    "        print(\"=\"*50 + \"\\n\")\n",
    "    \n",
    "    # We're done processing this email\n",
    "    return {}"
   ]
  },
  {
   "cell_type": "code",
   "execution_count": 115,
   "metadata": {},
   "outputs": [],
   "source": [
    "def route_email(state: EmailState) -> str:\n",
    "    \"\"\"Determine the next step based on spam classification\"\"\"\n",
    "    if state[\"is_spam\"]: # If the email is spam, meaning \"is_spam\" is True\n",
    "        return \"spam\" # Move to the spam handling step\n",
    "    else:\n",
    "        return \"legitimate\"  # Move to the legitimate email handling step"
   ]
  },
  {
   "cell_type": "code",
   "execution_count": 116,
   "metadata": {},
   "outputs": [
    {
     "data": {
      "text/plain": [
       "<langgraph.graph.state.StateGraph at 0x1508a5f50>"
      ]
     },
     "execution_count": 116,
     "metadata": {},
     "output_type": "execute_result"
    }
   ],
   "source": [
    "# Create the graph\n",
    "email_graph = StateGraph(EmailState)  # Initialize the graph with the EmailState state\n",
    "\n",
    "# Add nodes\n",
    "email_graph.add_node(\"read_email\", read_email)  # Add the read_email node\n",
    "email_graph.add_node(\"classify_email\", classify_email)  # Add the classify_email node\n",
    "email_graph.add_node(\"handle_spam\", handle_spam)  # Add the handle_spam node\n",
    "email_graph.add_node(\"draft_response\", draft_response)  # Add the draft_response node\n",
    "email_graph.add_node(\"notify\", notify)  # Add the notify node"
   ]
  },
  {
   "cell_type": "code",
   "execution_count": 117,
   "metadata": {},
   "outputs": [],
   "source": [
    "# Start the edges - LangGraph requires a start node\n",
    "email_graph.add_edge(START, \"read_email\")  # Start with reading the email\n",
    "# Add edges - defining the flow\n",
    "email_graph.add_edge(\"read_email\", \"classify_email\")  # After reading, classify the email\n",
    "\n",
    "# Add conditional branching from classify_email\n",
    "email_graph.add_conditional_edges(\n",
    "    \"classify_email\",\n",
    "    route_email, # based on this function..\n",
    "    {\n",
    "        \"spam\": \"handle_spam\",  # .. we route to these nodes\n",
    "        \"legitimate\": \"draft_response\"\n",
    "    }\n",
    ")\n",
    "\n",
    "# Add the final edges\n",
    "email_graph.add_edge(\"handle_spam\", END)  # End the process after handling spam\n",
    "email_graph.add_edge(\"draft_response\", \"notify\")  # if not spam, we draft a response..\n",
    "email_graph.add_edge(\"notify\", END) # .. and notify us - END\n",
    "\n",
    "# Compile the graph\n",
    "compiled_graph = email_graph.compile()  # Compile the graph"
   ]
  },
  {
   "cell_type": "code",
   "execution_count": 118,
   "metadata": {},
   "outputs": [
    {
     "data": {
      "image/png": "[encoded data removed]",
      "text/plain": [
       "<IPython.core.display.Image object>"
      ]
     },
     "execution_count": 118,
     "metadata": {},
     "output_type": "execute_result"
    }
   ],
   "source": [
    "Image(compiled_graph.get_graph().draw_mermaid_png(draw_method=MermaidDrawMethod.API))\n"
   ]
  },
  {
   "cell_type": "code",
   "execution_count": 119,
   "metadata": {},
   "outputs": [],
   "source": [
    "# Example legitimate email\n",
    "legitimate_email = {\n",
    "    \"sender\": \"john.smith@example.com\",\n",
    "    \"subject\": \"Question about your services\",\n",
    "    \"body\": \"Dear Mr. Valentino, I was referred to you by a colleague and I'm interested in learning more about your consulting services. Could we schedule a call next week? Best regards, John Smith\"\n",
    "}\n",
    "\n",
    "# Example spam email\n",
    "spam_email = {\n",
    "    \"sender\": \"winner@lottery-intl.com\",\n",
    "    \"subject\": \"YOU HAVE WON $5,000,000!!!\",\n",
    "    \"body\": \"CONGRATULATIONS! You have been selected as the winner of our international lottery! To claim your $5,000,000 prize, please send us your bank details and a processing fee of $100.\"\n",
    "}"
   ]
  },
  {
   "cell_type": "code",
   "execution_count": 120,
   "metadata": {},
   "outputs": [
    {
     "name": "stdout",
     "output_type": "stream",
     "text": [
      "\n",
      "Processing legitimate email...\n",
      "Mailbot is processing an email from john.smith@example.com with subject: Question about your services\n",
      "\n",
      "==================================================\n",
      "Hi boss, you've received an email from john.smith@example.com.\n",
      "Subject: Question about your services\n",
      "Category: Relational\n",
      "\n",
      "I've prepared a draft response for your review:\n",
      "--------------------------------------------------\n",
      "Dear Mr. Smith,\n",
      "\n",
      "Thank you for your email and your interest in our consulting services. I appreciate the referral from your colleague. I would be delighted to schedule a call with you next week to discuss our offerings in more detail.\n",
      "\n",
      "Please let me know your availability, and I will do my best to accommodate it. I look forward to our conversation.\n",
      "\n",
      "Best regards,\n",
      "Mr. Valentino\n",
      "==================================================\n",
      "\n"
     ]
    }
   ],
   "source": [
    "# Process the legitimate email\n",
    "print(\"\\nProcessing legitimate email...\")\n",
    "legitimate_result = compiled_graph.invoke(\n",
    "    {\n",
    "        \"email\": legitimate_email, # invoke the graph with the email\n",
    "        \"verbose\": True,  # enable verbose output\n",
    "    }\n",
    ")"
   ]
  },
  {
   "cell_type": "code",
   "execution_count": 121,
   "metadata": {},
   "outputs": [
    {
     "data": {
      "text/plain": [
       "{'email': {'sender': 'john.smith@example.com',\n",
       "  'subject': 'Question about your services',\n",
       "  'body': \"Dear Mr. Valentino, I was referred to you by a colleague and I'm interested in learning more about your consulting services. Could we schedule a call next week? Best regards, John Smith\"},\n",
       " 'email_category': 'Relational',\n",
       " 'spam_reason': \"This email does not exhibit any characteristics of spam. It has a clear subject line, a polite greeting, and a specific request for information. It also includes the sender's name and a reference to a mutual connection.\",\n",
       " 'is_spam': False,\n",
       " 'draft': 'Dear Mr. Smith,\\n\\nThank you for your email and your interest in our consulting services. I appreciate the referral from your colleague. I would be delighted to schedule a call with you next week to discuss our offerings in more detail.\\n\\nPlease let me know your availability, and I will do my best to accommodate it. I look forward to our conversation.\\n\\nBest regards,\\nMr. Valentino',\n",
       " 'verbose': True}"
      ]
     },
     "execution_count": 121,
     "metadata": {},
     "output_type": "execute_result"
    }
   ],
   "source": [
    "legitimate_result"
   ]
  },
  {
   "cell_type": "code",
   "execution_count": 122,
   "metadata": {},
   "outputs": [
    {
     "name": "stdout",
     "output_type": "stream",
     "text": [
      "\n",
      "Processing legitimate email...\n",
      "Mailbot is processing an email from winner@lottery-intl.com with subject: YOU HAVE WON $5,000,000!!!\n",
      "Mailbot has identified the email as spam. Reason: The email is offering an unsolicited large sum of money, asking for personal bank details, and requesting a processing fee, which are all common spam indicators.\n",
      "The email has been moved to the spam folder.\n"
     ]
    }
   ],
   "source": [
    "# Process the legitimate email\n",
    "print(\"\\nProcessing legitimate email...\")\n",
    "illegitimate_result = compiled_graph.invoke(\n",
    "    {\n",
    "        \"email\": spam_email, # invoke the graph with the email\n",
    "        \"verbose\": True,  # enable verbose output\n",
    "    }\n",
    ")"
   ]
  },
  {
   "cell_type": "code",
   "execution_count": 123,
   "metadata": {},
   "outputs": [
    {
     "data": {
      "text/plain": [
       "{'email': {'sender': 'winner@lottery-intl.com',\n",
       "  'subject': 'YOU HAVE WON $5,000,000!!!',\n",
       "  'body': 'CONGRATULATIONS! You have been selected as the winner of our international lottery! To claim your $5,000,000 prize, please send us your bank details and a processing fee of $100.'},\n",
       " 'email_category': 'Spam',\n",
       " 'spam_reason': 'The email is offering an unsolicited large sum of money, asking for personal bank details, and requesting a processing fee, which are all common spam indicators.',\n",
       " 'is_spam': True,\n",
       " 'verbose': True}"
      ]
     },
     "execution_count": 123,
     "metadata": {},
     "output_type": "execute_result"
    }
   ],
   "source": [
    "illegitimate_result\n"
   ]
  },
  {
   "cell_type": "code",
   "execution_count": 124,
   "metadata": {},
   "outputs": [],
   "source": [
    "legitimate_emails = [\n",
    "    {\n",
    "        \"sender\": \"sarah.johnson@acme-corp.com\",\n",
    "        \"subject\": \"Meeting agenda for Thursday\",\n",
    "        \"body\": \"Hi team, Attached is the agenda for our quarterly review meeting on Thursday at 2 PM. Please review the attached documents before we meet. Let me know if you have any questions. Best, Sarah\",\n",
    "        \"is_spam\": False,\n",
    "        \"category\": \"Administrative\"\n",
    "    },\n",
    "    {\n",
    "        \"sender\": \"tech-support@cloudservices.net\",\n",
    "        \"subject\": \"Your support ticket #45928 has been resolved\",\n",
    "        \"body\": \"Dear valued customer, We're pleased to inform you that your recent support ticket regarding login issues has been resolved. If you continue to experience problems, please reply to this email with ticket #45928 in the subject line. Thank you for your patience. - Cloud Services Support Team\",\n",
    "        \"is_spam\": False,\n",
    "        \"category\": \"Transactional\"\n",
    "    },\n",
    "    {\n",
    "        \"sender\": \"notifications@linkedin.com\",\n",
    "        \"subject\": \"Michael Chen has endorsed you for Project Management\",\n",
    "        \"body\": \"Hi Alex, Michael Chen has endorsed you for Project Management on LinkedIn. View your profile to see your endorsements and send a thank you note to Michael.\",\n",
    "        \"is_spam\": False,\n",
    "        \"category\": \"Relational\"\n",
    "    },\n",
    "    {\n",
    "        \"sender\": \"reservation@grandhotel.com\",\n",
    "        \"subject\": \"Confirmation: Your stay on March 5-7, 2025\",\n",
    "        \"body\": \"Dear Ms. Williams, This email confirms your reservation at Grand Hotel for March 5-7, 2025. Check-in: 3 PM, Check-out: 11 AM. Reservation #: GH-789456. We look forward to welcoming you. For changes, please call 555-123-4567. Sincerely, Grand Hotel Reservations\",\n",
    "        \"is_spam\": False,\n",
    "        \"category\": \"Transactional\"\n",
    "    },\n",
    "    {\n",
    "        \"sender\": \"david.wilson@partnercompany.org\",\n",
    "        \"subject\": \"Proposal draft and timeline\",\n",
    "        \"body\": \"Hi Jessica, As discussed in our call yesterday, I've attached the draft proposal and project timeline for your review. Please let me know if you'd like any changes before we present this to the board next week. Regards, David\",\n",
    "        \"is_spam\": False,\n",
    "        \"category\": \"Relational\"\n",
    "    },\n",
    "    {\n",
    "        \"sender\": \"newsletter@industry-insights.com\",\n",
    "        \"subject\": \"March 2025 Newsletter: Industry Trends and Analysis\",\n",
    "        \"body\": \"Industry Insights Newsletter - March 2025 | Featured Article: The Impact of AI on Manufacturing | Upcoming Webinar: Supply Chain Optimization Strategies | Market Analysis: Q1 Reports | To unsubscribe, click here\",\n",
    "        \"is_spam\": False,\n",
    "        \"category\": \"Marketing\"\n",
    "    },\n",
    "    {\n",
    "        \"sender\": \"laura.santos@freelance-writer.me\",\n",
    "        \"subject\": \"Invoice #113 for content writing services\",\n",
    "        \"body\": \"Dear Mr. Reynolds, Please find attached invoice #113 for the content writing services provided in February 2025. Payment terms are net 30 days as per our agreement. Thank you for your business. Best regards, Laura Santos\",\n",
    "        \"is_spam\": False,\n",
    "        \"category\": \"Transactional\"\n",
    "    },\n",
    "    {\n",
    "        \"sender\": \"no-reply@amazon.com\",\n",
    "        \"subject\": \"Your Amazon order #112-7366425-8795621 has shipped\",\n",
    "        \"body\": \"Your package is on its way! Your order of 'Wireless Headphones' has shipped and is expected to arrive on Tuesday, April 2. Track your package: https://amazon.com/track/112-7366425-8795621\",\n",
    "        \"is_spam\": False,\n",
    "        \"category\": \"Transactional\"\n",
    "    },\n",
    "    {\n",
    "        \"sender\": \"alumni@university.edu\",\n",
    "        \"subject\": \"Annual Alumni Fundraising Event - Save the Date\",\n",
    "        \"body\": \"Dear Alumni, We're excited to announce our Annual Fundraising Gala will take place on May 15, 2025, at the University Grand Hall. This year's theme is 'Building Tomorrow's Leaders'. Early bird tickets available until April 10. More details to follow. University Alumni Association\",\n",
    "        \"is_spam\": False,\n",
    "        \"category\": \"Marketing\"\n",
    "    },\n",
    "    {\n",
    "        \"sender\": \"hr@currentemployer.com\",\n",
    "        \"subject\": \"Important: Benefits enrollment period ending soon\",\n",
    "        \"body\": \"Reminder: The annual benefits enrollment period ends on April 10, 2025. Please log in to the HR portal to review and confirm your selections for the upcoming fiscal year. If no changes are made, your current selections will roll over. Human Resources Department\",\n",
    "        \"is_spam\": False,\n",
    "        \"category\": \"Administrative\"\n",
    "    }\n",
    "]\n",
    "\n",
    "spam_emails = [\n",
    "    {\n",
    "        \"sender\": \"security-alert@bankofamerica-secure.info\",\n",
    "        \"subject\": \"Urgent: Your account has been limited\",\n",
    "        \"body\": \"Dear valued customer, We have detected suspicious activity on your account. Your access has been limited for security reasons. Please verify your identity by clicking this link immediately: http://secure-bankofamerica.info/verify\",\n",
    "        \"is_spam\": True,\n",
    "        \"category\": \"Spam\"\n",
    "    },\n",
    "    {\n",
    "        \"sender\": \"employment@career-opportunity.net\",\n",
    "        \"subject\": \"Make $5000/week working from home!\",\n",
    "        \"body\": \"AMAZING OPPORTUNITY! We're looking for serious people who want to earn $5000+ per week working just 2 hours per day from home! No experience needed! Limited positions available! Reply NOW with your name and phone number to secure your spot!\",\n",
    "        \"is_spam\": True,\n",
    "        \"category\": \"Spam\"\n",
    "    },\n",
    "    {\n",
    "        \"sender\": \"prince.nelson@royalfamily-intl.org\",\n",
    "        \"subject\": \"Confidential Business Proposal\",\n",
    "        \"body\": \"Dear Friend, I am Prince Nelson from the Royal Family of Wakanda. I need to transfer $25,000,000 out of my country and require your assistance. In return, you will receive 30% of the funds. Please reply with your bank details to proceed with this transaction. Regards, Prince Nelson\",\n",
    "        \"is_spam\": True,\n",
    "        \"category\": \"Spam\"\n",
    "    },\n",
    "    {\n",
    "        \"sender\": \"billing@netflix-accounts.com\",\n",
    "        \"subject\": \"Netflix Payment Failed - Update Information\",\n",
    "        \"body\": \"Dear Customer, Your Netflix payment method has expired. To avoid service interruption, please update your payment information immediately: http://netflix-account-verify.com/login\",\n",
    "        \"is_spam\": True,\n",
    "        \"category\": \"Spam\"\n",
    "    },\n",
    "    {\n",
    "        \"sender\": \"pharmacy-discounts@medstore24.biz\",\n",
    "        \"subject\": \"70% OFF Premium Medications - No Prescription Needed!\",\n",
    "        \"body\": \"HUGE PHARMACEUTICAL SALE! Get premium medications at 70% OFF regular prices! No prescription required! Overnight shipping available! Viagra, Cialis, Weight Loss Pills, Pain Relief, and more! Order now at www.medstore24.biz\",\n",
    "        \"is_spam\": True,\n",
    "        \"category\": \"Spam\"\n",
    "    },\n",
    "    {\n",
    "        \"sender\": \"customer-service@apple.id-verify.com\",\n",
    "        \"subject\": \"Your Apple ID was used to sign in on a new device\",\n",
    "        \"body\": \"Dear Customer, Your Apple ID was recently used to sign in on an unknown device in Kyiv, Ukraine. If this wasn't you, your account may be compromised. Secure your account now: https://apple-id-verification.com/secure\",\n",
    "        \"is_spam\": True,\n",
    "        \"category\": \"Spam\"\n",
    "    },\n",
    "    {\n",
    "        \"sender\": \"irs.refunds@tax-return-service.org\",\n",
    "        \"subject\": \"IRS: You have a tax refund pending\",\n",
    "        \"body\": \"ATTENTION: The Internal Revenue Service has calculated your tax return and determined you are eligible for an additional refund of $1,427.89. To claim your refund, click here to verify your identity and provide your direct deposit information: https://irs-tax-refunds.org/claim\",\n",
    "        \"is_spam\": True,\n",
    "        \"category\": \"Spam\"\n",
    "    },\n",
    "    {\n",
    "        \"sender\": \"james.wilson@businessproposal.co\",\n",
    "        \"subject\": \"Re: Our discussion last week\",\n",
    "        \"body\": \"Hello, Following up on our discussion last week regarding the investment opportunity. As I mentioned, this is a limited-time offer with 300% guaranteed returns within 3 months. Minimum investment is only $1000. Let me know if you're ready to proceed. James Wilson, Investment Specialist\",\n",
    "        \"is_spam\": True,\n",
    "        \"category\": \"Spam\"\n",
    "    },\n",
    "    {\n",
    "        \"sender\": \"track-delivery@fedex-shipping.info\",\n",
    "        \"subject\": \"FedEx: Your package delivery status\",\n",
    "        \"body\": \"Notification: We attempted to deliver your package today but were unable to due to an incorrect address. To reschedule delivery, please confirm your details here: http://fedex-delivery-reschedule.info/form. Reference: FDX-78542136\",\n",
    "        \"is_spam\": True,\n",
    "        \"category\": \"Spam\"\n",
    "    },\n",
    "    {\n",
    "        \"sender\": \"support@microsoft-security-team.net\",\n",
    "        \"subject\": \"Critical Windows Security Alert - Immediate Action Required\",\n",
    "        \"body\": \"WARNING: Your Windows computer has been infected with dangerous malware that is stealing your personal information. Our security scan detected 13 viruses on your system. Download and run our free security tool immediately to remove these threats: www.microsoft-security-scan.net/download\",\n",
    "        \"is_spam\": True,\n",
    "        \"category\": \"Spam\"\n",
    "    }\n",
    "]"
   ]
  },
  {
   "cell_type": "code",
   "execution_count": 125,
   "metadata": {},
   "outputs": [
    {
     "name": "stderr",
     "output_type": "stream",
     "text": [
      "100%|██████████| 20/20 [01:37<00:00,  4.88s/it]\n"
     ]
    }
   ],
   "source": [
    "def evaluate_email_classifications(ground_truth, predictions):\n",
    "    \"\"\"\n",
    "    Evaluate email classification performance.\n",
    "    \n",
    "    Parameters:\n",
    "    - ground_truth: List of email dictionaries with true labels\n",
    "    - predictions: List of state dictionaries with model predictions\n",
    "    \n",
    "    Returns:\n",
    "    - Dictionary containing evaluation metrics\n",
    "    \"\"\"\n",
    "    # Extract true values and predictions\n",
    "    true_spam = [email[\"is_spam\"] for email in ground_truth]\n",
    "    pred_spam = [pred[\"is_spam\"] for pred in predictions]\n",
    "    \n",
    "    # Calculate spam detection metrics\n",
    "    spam_f1 = f1_score(true_spam, pred_spam)\n",
    "    return spam_f1\n",
    "\n",
    "\n",
    "# Combine legitimate and spam emails\n",
    "ground_truth = legitimate_emails + spam_emails\n",
    "\n",
    "predictions = []\n",
    "for email in tqdm(ground_truth):\n",
    "\n",
    "    response = compiled_graph.invoke({\"email\": email, \"verbose\": False})\n",
    "    predictions.append({\"is_spam\": response[\"is_spam\"]})\n",
    "\n",
    "# Evaluate\n",
    "results = evaluate_email_classifications(ground_truth, predictions)"
   ]
  },
  {
   "cell_type": "code",
   "execution_count": 127,
   "metadata": {},
   "outputs": [
    {
     "name": "stdout",
     "output_type": "stream",
     "text": [
      "F1 Score for spam detection: 0.89 with model 'watsonx/ibm/granite-3-2-8b-instruct'\n"
     ]
    }
   ],
   "source": [
    "print(f\"F1 Score for spam detection: {results:.2f} with model '{model.model_id}'\")\n"
   ]
  },
  {
   "cell_type": "markdown",
   "metadata": {},
   "source": [
    "Analysis:\n",
    "\n",
    "Baseline:\n",
    "Temperature = 0.7\n",
    "max_new_tokens = 300\n",
    "F1 Score for spam detection: 0.89 with model 'watsonx/ibm/granite-3-2-8b-instruct'\n",
    "\n",
    "iteration 1:\n",
    "Temperature = 1.0\n",
    "max_new_tokens = 100\n",
    "\n",
    "Lowering temperature toward 0.0 should make the “is_spam” decision more consistent and less prone to hallucination; raising toward 1.0 should inject more creativity in the draft responses but can reduce classification reliability.\n",
    "\n",
    "max_new_tokens for classification prompts can be set quite low (e.g. 50–100 tokens) since we only need a brief decision + rationale; reducing this can shave latency and keep the model focused.\n",
    "\n",
    "F1 Score for spam detection: 0.82 with model 'watsonx/ibm/granite-3-2-8b-instruct'\n",
    "\n",
    "iteration 2:\n",
    "Temperature = 0.3\n",
    "max_new_tokens = 100\n",
    "\n",
    "F1 Score for spam detection: 0.89 with model 'watsonx/ibm/granite-3-2-8b-instruct'\n",
    "\n",
    "Iteration 3: \n",
    "\n",
    "Adding top_p to try and further concentrate the model on high‑probability tokens, improving classification consistency.\n",
    "\n",
    "Temperature = 0.3\n",
    "top_p = 0.8\n",
    "max_new_tokens = 100\n",
    "\n",
    "F1 Score for spam detection: 0.82 with model 'watsonx/ibm/granite-3-2-8b-instruct'\n",
    "\n",
    "\n",
    "Iteration 4:\n",
    "Temperature = 0.1\n",
    "top_p = 0.5\n",
    "max_new_tokens = 50\n",
    "\n",
    "F1 Score for spam detection: 0.89 with model 'watsonx/ibm/granite-3-2-8b-instruct'\n",
    "\n",
    "Final thoughts:\n",
    " My tuning of the hyperparameters showed that temperature is the most critical lever for classification consistency—keeping it in the 0.1–0.3 range reliably hit our 0.89 F1 ceiling. I could comfortably cut max_new_tokens to 50–100 for faster responses without hurting accuracy, and introducing top_p didn’t improve (and sometimes hurt) spam detection unless temperature is driven near zero. "
   ]
  }
 ],
 "metadata": {
  "kernelspec": {
   "display_name": "Python (aiml25-ma3)",
   "language": "python",
   "name": "aiml25-ma3"
  },
  "language_info": {
   "codemirror_mode": {
    "name": "ipython",
    "version": 3
   },
   "file_extension": ".py",
   "mimetype": "text/x-python",
   "name": "python",
   "nbconvert_exporter": "python",
   "pygments_lexer": "ipython3",
   "version": "3.11.11"
  }
 },
 "nbformat": 4,
 "nbformat_minor": 2
}
